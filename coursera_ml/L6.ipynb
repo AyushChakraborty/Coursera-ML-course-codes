{
 "cells": [
  {
   "cell_type": "code",
   "execution_count": 2,
   "metadata": {},
   "outputs": [],
   "source": [
    "import numpy as np\n",
    "import pandas as pd"
   ]
  },
  {
   "cell_type": "code",
   "execution_count": 3,
   "metadata": {},
   "outputs": [
    {
     "name": "stdout",
     "output_type": "stream",
     "text": [
      "[ 0  1  2  3  4  5  6  7  8  9 10 11 12 13 14 15 16 17 18 19]\n"
     ]
    }
   ],
   "source": [
    "x = np.arange(0,20,1)\n",
    "print(x)"
   ]
  },
  {
   "cell_type": "code",
   "execution_count": 4,
   "metadata": {},
   "outputs": [
    {
     "name": "stdout",
     "output_type": "stream",
     "text": [
      "[[ 0]\n",
      " [ 1]\n",
      " [ 2]\n",
      " [ 3]\n",
      " [ 4]\n",
      " [ 5]\n",
      " [ 6]\n",
      " [ 7]\n",
      " [ 8]\n",
      " [ 9]\n",
      " [10]\n",
      " [11]\n",
      " [12]\n",
      " [13]\n",
      " [14]\n",
      " [15]\n",
      " [16]\n",
      " [17]\n",
      " [18]\n",
      " [19]]\n"
     ]
    }
   ],
   "source": [
    "X = x.reshape(-1, 1)  #only 1 feature but multiple egs of that feature\n",
    "print(X)"
   ]
  },
  {
   "cell_type": "code",
   "execution_count": 5,
   "metadata": {},
   "outputs": [
    {
     "name": "stdout",
     "output_type": "stream",
     "text": [
      "[  1   2   5  10  17  26  37  50  65  82 101 122 145 170 197 226 257 290\n",
      " 325 362]\n"
     ]
    }
   ],
   "source": [
    "y = 1 + x**2\n",
    "print(y)"
   ]
  },
  {
   "cell_type": "code",
   "execution_count": 6,
   "metadata": {},
   "outputs": [],
   "source": [
    "#@ in np is used for traditional matrix multiplication or dot prod in case of vectors"
   ]
  },
  {
   "cell_type": "code",
   "execution_count": 7,
   "metadata": {},
   "outputs": [
    {
     "name": "stdout",
     "output_type": "stream",
     "text": [
      "11\n"
     ]
    }
   ],
   "source": [
    "a = np.array([1,2])\n",
    "b = np.array([3,4])\n",
    "print(a@b)"
   ]
  },
  {
   "cell_type": "code",
   "execution_count": 8,
   "metadata": {},
   "outputs": [
    {
     "name": "stdout",
     "output_type": "stream",
     "text": [
      "[[[16 21]\n",
      "  [28 37]]]\n"
     ]
    }
   ],
   "source": [
    "a = np.array([[[2,3], [4,5]]])\n",
    "b = np.array([[[2,3], [4,5]]])\n",
    "print(a@b)\n",
    "\n",
    "#even in case of higher order tensors, it does it based on normal matrix mult"
   ]
  },
  {
   "cell_type": "code",
   "execution_count": 15,
   "metadata": {},
   "outputs": [
    {
     "name": "stdout",
     "output_type": "stream",
     "text": [
      "[[   0    0    0]\n",
      " [   1    1    1]\n",
      " [   2    4    8]\n",
      " [   3    9   27]\n",
      " [   4   16   64]\n",
      " [   5   25  125]\n",
      " [   6   36  216]\n",
      " [   7   49  343]\n",
      " [   8   64  512]\n",
      " [   9   81  729]\n",
      " [  10  100 1000]\n",
      " [  11  121 1331]\n",
      " [  12  144 1728]\n",
      " [  13  169 2197]\n",
      " [  14  196 2744]\n",
      " [  15  225 3375]\n",
      " [  16  256 4096]\n",
      " [  17  289 4913]\n",
      " [  18  324 5832]\n",
      " [  19  361 6859]]\n"
     ]
    }
   ],
   "source": [
    "X = np.c_[x, x**2, x**3]   #engineering 3 new features which can be used for polynomial regression \n",
    "print(X)"
   ]
  },
  {
   "cell_type": "code",
   "execution_count": 10,
   "metadata": {},
   "outputs": [],
   "source": [
    "#np.ptp(2nd order tensor) finds the max peak to peak value bw cols "
   ]
  }
 ],
 "metadata": {
  "kernelspec": {
   "display_name": "Python 3",
   "language": "python",
   "name": "python3"
  },
  "language_info": {
   "codemirror_mode": {
    "name": "ipython",
    "version": 3
   },
   "file_extension": ".py",
   "mimetype": "text/x-python",
   "name": "python",
   "nbconvert_exporter": "python",
   "pygments_lexer": "ipython3",
   "version": "3.8.5"
  }
 },
 "nbformat": 4,
 "nbformat_minor": 2
}
