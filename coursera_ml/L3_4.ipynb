{
 "cells": [
  {
   "cell_type": "code",
   "execution_count": 2,
   "metadata": {},
   "outputs": [],
   "source": [
    "import tensorflow as tf\n",
    "import numpy as np\n",
    "import matplotlib.pyplot as plt"
   ]
  },
  {
   "cell_type": "markdown",
   "metadata": {},
   "source": [
    "looking at how increasing the number of training samples can result in underfitting if the model was already\n",
    "overfitted"
   ]
  },
  {
   "cell_type": "code",
   "execution_count": 3,
   "metadata": {},
   "outputs": [
    {
     "data": {
      "text/plain": [
       "[<matplotlib.lines.Line2D at 0x286678ee990>]"
      ]
     },
     "execution_count": 3,
     "metadata": {},
     "output_type": "execute_result"
    },
    {
     "data": {
      "image/png": "[encoded data removed]",
      "text/plain": [
       "<Figure size 640x480 with 1 Axes>"
      ]
     },
     "metadata": {},
     "output_type": "display_data"
    }
   ],
   "source": [
    "x = np.arange(1,20,1)\n",
    "y = np.arange(1,20,1)\n",
    "plt.plot(x, y)"
   ]
  },
  {
   "cell_type": "code",
   "execution_count": 4,
   "metadata": {},
   "outputs": [],
   "source": [
    "#func to calc cost value\n",
    "def caculate_cost(x, y, w, b, m): \n",
    "\n",
    "    \"\"\"\n",
    "    Finds the gradient of the cost function J(w,b)\n",
    "    Args:\n",
    "        x (ndarray (m,)): feature data, m samples\n",
    "        y (ndarray (m,)): target data, m samples\n",
    "        w (scalar): weight\n",
    "        b (scalar): bias\n",
    "        m (scalar): number of traning samples\n",
    "    Returns:\n",
    "        J (scalar): cost value\n",
    "    \"\"\"\n",
    "    \n",
    "    J = 0\n",
    "    for i in range(m):\n",
    "        J += (w*x[i] + b - y[i])**2\n",
    "    J /= (2*m)\n",
    "    return J\n",
    "\n",
    "\n",
    "#calc gradient\n",
    "def calculate_gradient(x, y, w, b, i):\n",
    "\n",
    "    \"\"\"\n",
    "    Finds the gradient of the cost function J(w,b)\n",
    "    Args:\n",
    "        x (ndarray (m,)): feature data, m samples\n",
    "        y (ndarray (m,)): target data, m samples\n",
    "        w (scalar): weight\n",
    "        b (scalar): bias\n",
    "        i (scalar): ith training sample\n",
    "    Returns:\n",
    "        dJ_dw (scalar): the gradient of cost wrt w\n",
    "        dJ_db (scalar): the gradiene of cost wrt b\n",
    "    \"\"\"\n",
    "\n",
    "    dJ_dw = 0\n",
    "    dJ_db = 0\n",
    "\n",
    "    dJ_dw += (w*x[i] + b - y[i])*x[i]\n",
    "    dJ_db += (w*x[i] + b - y[i])\n",
    "\n",
    "    return dJ_dw, dJ_db\n",
    "\n",
    "#main algo\n",
    "def linear_regr(x, y, w, b, m, a, e): \n",
    "\n",
    "    \"\"\"\n",
    "    Updates the values of w,b to find the best fit line\n",
    "    Args:\n",
    "        x (ndarray (m,)): feature data, m samples\n",
    "        y (ndarray (m,)): target data, m samples\n",
    "        w (scalar): weight\n",
    "        b (scalar): bias\n",
    "        m (scalar): number of traning samples\n",
    "        a (scalar): learning rate\n",
    "        e (scalar): number of epochs\n",
    "    Returns:\n",
    "        w (scalar): updated w\n",
    "        b (scalar): updated b\n",
    "        e_history (list): list of 1000th epoch\n",
    "        cost_history (list): list of cost at every 1000th epoch\n",
    "    \"\"\"\n",
    "    \n",
    "    e_history = []\n",
    "    cost_history = []\n",
    "\n",
    "    for i in range(e):  #epoch iteration \n",
    "        for j in range(m): #dataset iteration\n",
    "            dJ_dw, dJ_db = calculate_gradient(x, y, w, b, j)\n",
    "\n",
    "            w -= a*dJ_dw\n",
    "            b -= a*dJ_db\n",
    "\n",
    "            J = caculate_cost(x, y, w, b, m)\n",
    "            print(f\"epoch: {i+1}, sample: {j+1}, Cost: {J}\")\n",
    "            e_history.append(j+1)\n",
    "            cost_history.append(J) \n",
    "\n",
    "    return w, b, e_history, cost_history"
   ]
  },
  {
   "cell_type": "code",
   "execution_count": 5,
   "metadata": {},
   "outputs": [
    {
     "name": "stdout",
     "output_type": "stream",
     "text": [
      "epoch: 1, sample: 1, Cost: 254.43019999999999\n",
      "epoch: 1, sample: 2, Cost: 233.81894497999997\n",
      "epoch: 1, sample: 3, Cost: 192.960663077342\n",
      "epoch: 1, sample: 4, Cost: 135.7738458415852\n",
      "epoch: 1, sample: 5, Cost: 76.40468723338003\n",
      "epoch: 1, sample: 6, Cost: 31.60630219986311\n",
      "epoch: 1, sample: 7, Cost: 8.543833216814702\n",
      "epoch: 1, sample: 8, Cost: 1.2835973940741563\n",
      "epoch: 1, sample: 9, Cost: 0.10572274869447024\n",
      "epoch: 1, sample: 10, Cost: 0.024609037157939006\n",
      "epoch: 1, sample: 11, Cost: 0.0208118659383171\n",
      "epoch: 1, sample: 12, Cost: 0.019403729358118835\n",
      "epoch: 1, sample: 13, Cost: 0.019341566138244254\n",
      "epoch: 1, sample: 14, Cost: 0.020012308252706314\n",
      "epoch: 1, sample: 15, Cost: 0.021076872899610348\n",
      "epoch: 1, sample: 16, Cost: 0.02241884289756933\n",
      "epoch: 1, sample: 17, Cost: 0.023794202536963766\n",
      "epoch: 1, sample: 18, Cost: 0.02545163809267125\n",
      "epoch: 1, sample: 19, Cost: 0.02651613356581615\n",
      "[254.43019999999999, 233.81894497999997, 192.960663077342, 135.7738458415852, 76.40468723338003, 31.60630219986311, 8.543833216814702, 1.2835973940741563, 0.10572274869447024, 0.024609037157939006, 0.0208118659383171, 0.019403729358118835, 0.019341566138244254, 0.020012308252706314, 0.021076872899610348, 0.02241884289756933, 0.023794202536963766, 0.02545163809267125, 0.02651613356581615]\n"
     ]
    }
   ],
   "source": [
    "w_init = 3\n",
    "b_init = 0\n",
    "w, b, e_hist, cost_hist = linear_regr(x, y, w_init, b_init, x.shape[0], 0.01, 1)\n",
    "print(cost_hist)"
   ]
  },
  {
   "cell_type": "code",
   "execution_count": 24,
   "metadata": {},
   "outputs": [
    {
     "data": {
      "text/plain": [
       "Text(0.5, 1.0, 'number of samples:20')"
      ]
     },
     "execution_count": 24,
     "metadata": {},
     "output_type": "execute_result"
    },
    {
     "data": {
      "image/png": "[encoded data removed]",
      "text/plain": [
       "<Figure size 640x480 with 1 Axes>"
      ]
     },
     "metadata": {},
     "output_type": "display_data"
    }
   ],
   "source": [
    "plt.plot(e_hist, cost_hist)\n",
    "plt.xlabel('iterations: equals to number of samples in dataset')\n",
    "plt.ylabel('costs')\n",
    "plt.title('number of samples:20')"
   ]
  },
  {
   "cell_type": "code",
   "execution_count": 7,
   "metadata": {},
   "outputs": [
    {
     "name": "stdout",
     "output_type": "stream",
     "text": [
      "1.0209533864233824 -0.40918589916811815\n"
     ]
    }
   ],
   "source": [
    "print(w,b)"
   ]
  },
  {
   "cell_type": "code",
   "execution_count": 8,
   "metadata": {},
   "outputs": [
    {
     "name": "stdout",
     "output_type": "stream",
     "text": [
      "0.15072448395209137\n",
      "\n",
      "0.1348939566313766\n",
      "\n",
      "0.11994151811587714\n",
      "\n",
      "0.10586716840559256\n",
      "\n",
      "0.09267090750052343\n",
      "\n",
      "0.08035273540066971\n",
      "\n",
      "0.06891265210603063\n",
      "\n",
      "0.05835065761660676\n",
      "\n",
      "0.04866675193239808\n",
      "\n",
      "0.03986093505340458\n",
      "\n",
      "0.031933206979626275\n",
      "\n",
      "0.024883567711063717\n",
      "\n",
      "0.018712017247715717\n",
      "\n",
      "0.013418555589582907\n",
      "\n",
      "0.00900318273666529\n",
      "\n",
      "0.005465898688962862\n",
      "\n",
      "0.002806703446475625\n",
      "\n",
      "0.0010255970092035785\n",
      "\n",
      "0.00012257937714672275\n",
      "\n"
     ]
    }
   ],
   "source": [
    "for i in range(19):\n",
    "    print((w*x[i]+b-y[i])**2)\n",
    "    print()"
   ]
  },
  {
   "cell_type": "code",
   "execution_count": 9,
   "metadata": {},
   "outputs": [],
   "source": [
    "#now since its a simple fit, basically a line, hence the model doesnt need many samples to fit, so overfitting can \n",
    "#occur very easily and also since we know that a solution to get rid of overfitting is to introduce more training\n",
    "#samples, here we we increase the samples from 19 to say 30, huge amt of underfitting occurs where the cost increases\n",
    "#rapidly, so its good to have a stopping point when the data we have is not very complex, where in this case its \n",
    "#just a line"
   ]
  },
  {
   "cell_type": "code",
   "execution_count": 19,
   "metadata": {},
   "outputs": [],
   "source": [
    "x1 = np.arange(1,26,1)\n",
    "y1 = np.arange(1,26,1)"
   ]
  },
  {
   "cell_type": "code",
   "execution_count": 20,
   "metadata": {},
   "outputs": [
    {
     "name": "stdout",
     "output_type": "stream",
     "text": [
      "epoch: 1, sample: 1, Cost: 432.68960000000004\n",
      "epoch: 1, sample: 2, Cost: 397.94269666\n",
      "epoch: 1, sample: 3, Cost: 328.83092544397596\n",
      "epoch: 1, sample: 4, Cost: 231.87757581218503\n",
      "epoch: 1, sample: 5, Cost: 130.99141694532352\n",
      "epoch: 1, sample: 6, Cost: 54.615367077993724\n",
      "epoch: 1, sample: 7, Cost: 15.049279455180004\n",
      "epoch: 1, sample: 8, Cost: 2.3952937586715786\n",
      "epoch: 1, sample: 9, Cost: 0.23198862643892348\n",
      "epoch: 1, sample: 10, Cost: 0.04970411800087038\n",
      "epoch: 1, sample: 11, Cost: 0.03641783456521228\n",
      "epoch: 1, sample: 12, Cost: 0.02848933976226918\n",
      "epoch: 1, sample: 13, Cost: 0.02402508077959213\n",
      "epoch: 1, sample: 14, Cost: 0.02145872254423166\n",
      "epoch: 1, sample: 15, Cost: 0.02018313558429676\n",
      "epoch: 1, sample: 16, Cost: 0.01970367194526568\n",
      "epoch: 1, sample: 17, Cost: 0.019776738731129534\n",
      "epoch: 1, sample: 18, Cost: 0.020284086681502625\n",
      "epoch: 1, sample: 19, Cost: 0.020771163091654988\n",
      "epoch: 1, sample: 20, Cost: 0.022579999175181564\n",
      "epoch: 1, sample: 21, Cost: 0.020582822930367582\n",
      "epoch: 1, sample: 22, Cost: 0.046778798253122734\n",
      "epoch: 1, sample: 23, Cost: 0.14694553735755586\n",
      "epoch: 1, sample: 24, Cost: 4.550997774779539\n",
      "epoch: 1, sample: 25, Cost: 114.25907016957699\n",
      "[432.68960000000004, 397.94269666, 328.83092544397596, 231.87757581218503, 130.99141694532352, 54.615367077993724, 15.049279455180004, 2.3952937586715786, 0.23198862643892348, 0.04970411800087038, 0.03641783456521228, 0.02848933976226918, 0.02402508077959213, 0.02145872254423166, 0.02018313558429676, 0.01970367194526568, 0.019776738731129534, 0.020284086681502625, 0.020771163091654988, 0.022579999175181564, 0.020582822930367582, 0.046778798253122734, 0.14694553735755586, 4.550997774779539, 114.25907016957699]\n"
     ]
    }
   ],
   "source": [
    "w_init1 = 3\n",
    "b_init1 = 0\n",
    "w1, b1, e_hist1, cost_hist1 = linear_regr(x1, y1, w_init1, b_init1, x1.shape[0], 0.01, 1)\n",
    "print(cost_hist1)"
   ]
  },
  {
   "cell_type": "code",
   "execution_count": 35,
   "metadata": {},
   "outputs": [
    {
     "data": {
      "text/plain": [
       "Text(0.5, 1.0, 'number of samples: 25')"
      ]
     },
     "execution_count": 35,
     "metadata": {},
     "output_type": "execute_result"
    },
    {
     "data": {
      "image/png": "[encoded data removed]",
      "text/plain": [
       "<Figure size 640x480 with 1 Axes>"
      ]
     },
     "metadata": {},
     "output_type": "display_data"
    }
   ],
   "source": [
    "plt.plot(e_hist1, cost_hist1)\n",
    "plt.xlabel('iterations: equals to number of samples in dataset')\n",
    "plt.ylabel('costs')\n",
    "plt.title('number of samples: 25')"
   ]
  },
  {
   "cell_type": "code",
   "execution_count": 34,
   "metadata": {},
   "outputs": [
    {
     "name": "stdout",
     "output_type": "stream",
     "text": [
      "2.038488727358307\n"
     ]
    }
   ],
   "source": [
    "#now we can see the cost inc as the number of samples increses 25\n",
    "print(w1)"
   ]
  },
  {
   "cell_type": "code",
   "execution_count": null,
   "metadata": {},
   "outputs": [],
   "source": [
    "#w*10_b shld be 10\n",
    "print(w1*10 + b1)   #20, underfitting, which occurs in case of an already overfit model which now has been introduced\n",
    "#to more training samples\n",
    "print(w*10+b)   #9.8, closer indicating its the best fit"
   ]
  },
  {
   "cell_type": "code",
   "execution_count": 33,
   "metadata": {},
   "outputs": [
    {
     "name": "stdout",
     "output_type": "stream",
     "text": [
      "tf.Tensor(4.0, shape=(), dtype=float32)\n",
      "\n",
      "tf.Tensor(15.0544, shape=(), dtype=float32)\n",
      "\n",
      "tf.Tensor(28.056087, shape=(), dtype=float32)\n",
      "\n",
      "tf.Tensor(32.76913, shape=(), dtype=float32)\n",
      "\n",
      "tf.Tensor(23.108809, shape=(), dtype=float32)\n",
      "\n",
      "tf.Tensor(8.155363, shape=(), dtype=float32)\n",
      "\n",
      "tf.Tensor(0.89894533, shape=(), dtype=float32)\n",
      "\n",
      "tf.Tensor(0.005313271, shape=(), dtype=float32)\n",
      "\n",
      "tf.Tensor(0.0015493634, shape=(), dtype=float32)\n",
      "\n",
      "tf.Tensor(0.00083819777, shape=(), dtype=float32)\n",
      "\n",
      "tf.Tensor(0.00035429292, shape=(), dtype=float32)\n",
      "\n",
      "tf.Tensor(0.0002927477, shape=(), dtype=float32)\n",
      "\n",
      "tf.Tensor(5.7713947e-05, shape=(), dtype=float32)\n",
      "\n",
      "tf.Tensor(0.0003959469, shape=(), dtype=float32)\n",
      "\n",
      "tf.Tensor(0.0006729795, shape=(), dtype=float32)\n",
      "\n",
      "tf.Tensor(0.017333975, shape=(), dtype=float32)\n",
      "\n",
      "tf.Tensor(0.2990514, shape=(), dtype=float32)\n",
      "\n",
      "tf.Tensor(7.8907704, shape=(), dtype=float32)\n",
      "\n",
      "tf.Tensor(264.93738, shape=(), dtype=float32)\n",
      "\n",
      "tf.Tensor(11433.155, shape=(), dtype=float32)\n",
      "\n",
      "tf.Tensor(620994.9, shape=(), dtype=float32)\n",
      "\n",
      "tf.Tensor(41883340.0, shape=(), dtype=float32)\n",
      "\n",
      "tf.Tensor(3464274000.0, shape=(), dtype=float32)\n",
      "\n",
      "tf.Tensor(347578930000.0, shape=(), dtype=float32)\n",
      "\n",
      "<tf.Variable 'Variable:0' shape=() dtype=float32, numpy=-258466.25>\n"
     ]
    }
   ],
   "source": [
    "x = np.arange(1,25,1)\n",
    "y = np.arange(1,25,1)\n",
    "\n",
    "w = tf.Variable(3.0)  #letting the param be a tf Variable\n",
    "b = tf.Variable(0.0)\n",
    "alpha = 0.01\n",
    "\n",
    "itereations = 24\n",
    "\n",
    "for j in range(1):\n",
    "    for i in range(itereations):\n",
    "        with tf.GradientTape() as tape:  #instance of the GradientTape class has been created and named tape\n",
    "            cost = (w*(x[i]) + b - y[i])**2   \n",
    "        \n",
    "        [dJdw, dbdw] = tape.gradient(cost, [w, b])   #the derivative\n",
    "\n",
    "        w.assign_add(-alpha*dJdw)  #updation\n",
    "        b.assign_add(-alpha*dbdw)\n",
    "        print(cost)\n",
    "        print()\n",
    "\n",
    "print(w)\n",
    "\n",
    "#same thing seen here where the cost increases after decrease, but done with tf"
   ]
  },
  {
   "cell_type": "code",
   "execution_count": null,
   "metadata": {},
   "outputs": [],
   "source": []
  }
 ],
 "metadata": {
  "kernelspec": {
   "display_name": "Python 3 (ipykernel)",
   "language": "python",
   "name": "python3"
  },
  "language_info": {
   "codemirror_mode": {
    "name": "ipython",
    "version": 3
   },
   "file_extension": ".py",
   "mimetype": "text/x-python",
   "name": "python",
   "nbconvert_exporter": "python",
   "pygments_lexer": "ipython3",
   "version": "3.12.4"
  }
 },
 "nbformat": 4,
 "nbformat_minor": 2
}
