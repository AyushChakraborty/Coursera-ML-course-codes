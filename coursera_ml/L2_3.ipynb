{
 "cells": [
  {
   "cell_type": "code",
   "execution_count": 1,
   "metadata": {},
   "outputs": [
    {
     "name": "stdout",
     "output_type": "stream",
     "text": [
      "\n"
     ]
    }
   ],
   "source": [
    "#specifying from_logits=True when defining losses ensures that numerical accuracy is maintained and this is \n",
    "#especially needed in case of softmax activation, but when we do this, the NN no longer outputs the softmaxed\n",
    "#outputs a1,....,an but outputs z1,...,zn hence we have to manually apply the softmax function on the output z\n",
    "# vector once its obtained, so as an egs"
   ]
  },
  {
   "cell_type": "markdown",
   "metadata": {},
   "source": [
    "(tap to see it properly)\n",
    "without using from_logits:\n",
    "\n",
    "model = Sequential([\n",
    "    Dense(units=25, activation='relu'),\n",
    "    Dense(units=20, activation='relu'),\n",
    "    Dense(units=10, activation='softmax')\n",
    "])\n",
    "\n",
    "model.compile(loss=SpareCatregorialCrossentropy())\n",
    "model.fit(X, y, epochs=100)\n",
    "output = model(X)  #to get the predictions on X\n",
    "\n",
    "\n",
    "\n",
    "using from_logits:\n",
    "\n",
    "model = Sequential([\n",
    "    Dense(units=25, activation='relu'),\n",
    "    Dense(units=20, activation='relu'),\n",
    "    Dense(units=10, activation='linear')\n",
    "])\n",
    "\n",
    "model.compile(loss=SpareCatregorialCrossentropy(from_logits=True))\n",
    "model.fit(X, y, epochs=100)\n",
    "logits = model(X)   #gives the prediction on values of z and not the activations a\n",
    "output = tf.nn.softmax(logits)  #to get the predictions on X, ie, gives the values of a\n"
   ]
  },
  {
   "cell_type": "markdown",
   "metadata": {},
   "source": [
    "SparseCategorialCrossentropy or CategoricalCrossEntropy\n",
    "\n",
    "Tensorflow has two potential formats for target values and the selection of the loss defines which is expected.\n",
    "\n",
    "SparseCategorialCrossentropy: expects the target to be an integer corresponding to the index. For example, if there are 10 potential target values, y would be between 0 and 9.\n",
    "CategoricalCrossEntropy: Expects the target value of an example to be one-hot encoded where the value at the target index is 1 while the other N-1 entries are zero. An example with 10 potential target values, where the target is 2 would be [0,0,1,0,0,0,0,0,0,0]."
   ]
  },
  {
   "cell_type": "markdown",
   "metadata": {},
   "source": []
  }
 ],
 "metadata": {
  "kernelspec": {
   "display_name": "Python 3 (ipykernel)",
   "language": "python",
   "name": "python3"
  },
  "language_info": {
   "codemirror_mode": {
    "name": "ipython",
    "version": 3
   },
   "file_extension": ".py",
   "mimetype": "text/x-python",
   "name": "python",
   "nbconvert_exporter": "python",
   "pygments_lexer": "ipython3",
   "version": "3.12.4"
  }
 },
 "nbformat": 4,
 "nbformat_minor": 2
}
