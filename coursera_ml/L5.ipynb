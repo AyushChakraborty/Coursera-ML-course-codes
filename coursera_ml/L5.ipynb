{
 "cells": [
  {
   "cell_type": "markdown",
   "metadata": {},
   "source": [
    "IMPLEMENT MULTIPLE LINEAR REGRESSION WITH SGD"
   ]
  },
  {
   "cell_type": "code",
   "execution_count": 1,
   "metadata": {},
   "outputs": [],
   "source": [
    "import numpy as np\n",
    "import pandas as pd\n",
    "import matplotlib.pyplot as plt"
   ]
  },
  {
   "cell_type": "code",
   "execution_count": 4,
   "metadata": {},
   "outputs": [
    {
     "name": "stdout",
     "output_type": "stream",
     "text": [
      "[[2104    5    1   45  460]\n",
      " [1416    3    2   40  232]\n",
      " [ 852    2    1   35  178]]\n",
      "3 4\n"
     ]
    }
   ],
   "source": [
    "df = pd.read_csv('C:\\\\Users\\\\Lenovo\\\\OneDrive\\\\Desktop\\\\coursera_ml\\\\data2.csv')\n",
    "arr = df.to_numpy()\n",
    "print(arr)\n",
    "\n",
    "m = arr.shape[0]   #no of rows\n",
    "n = arr.shape[1]-1  #no of features\n",
    "print(m, n)"
   ]
  },
  {
   "cell_type": "code",
   "execution_count": 30,
   "metadata": {},
   "outputs": [
    {
     "name": "stdout",
     "output_type": "stream",
     "text": [
      "[[2104    5    1   45]\n",
      " [1416    3    2   40]\n",
      " [ 852    2    1   35]]\n",
      "[460 232 178]\n"
     ]
    }
   ],
   "source": [
    "x_train = []\n",
    "y_train = []\n",
    "\n",
    "for i in range(m):\n",
    "    x_train.append(arr[i][:n])\n",
    "    y_train.append(arr[i][n])\n",
    "\n",
    "x_train = np.array(x_train)\n",
    "y_train = np.array(y_train)\n",
    "print(x_train)\n",
    "print(y_train)\n"
   ]
  },
  {
   "cell_type": "code",
   "execution_count": 31,
   "metadata": {},
   "outputs": [],
   "source": [
    "#func to scale the features\n",
    "\n",
    "def z_score_norm(x):\n",
    "\n",
    "    \"\"\"\n",
    "    func to normalise the features using z score normalisation\n",
    "\n",
    "    Args:\n",
    "        x (ndarray (m,n)): the input feature matrix\n",
    "    \n",
    "    returns:\n",
    "        x_norm (ndarray (m,n)): the scaled features \n",
    "        mu (ndarray (n,)): the mean values for each of the features\n",
    "        sigma (ndarray (n,)): the std dev values for each of the features    \n",
    "    \"\"\"\n",
    "\n",
    "    mu = np.mean(x, axis=0)   #returns ndarray (n,)\n",
    "    sigma = np.std(x, axis=0)  # same \n",
    "\n",
    "    x_norm = (x-mu)/sigma #the ndarray(m,n) with normalisation\n",
    "\n",
    "    return x_norm, mu, sigma"
   ]
  },
  {
   "cell_type": "code",
   "execution_count": 32,
   "metadata": {},
   "outputs": [],
   "source": [
    "#func to find cost\n",
    "\n",
    "def calculate_cost(x, y, w, b, m):\n",
    "\n",
    "    \"\"\"\n",
    "    used to find the cost value at any instant of the model\n",
    "    Args:\n",
    "        x (ndarray (m,n)): 2d np array of the features\n",
    "        y (ndarray (m,)): 1d np array of the targets\n",
    "        w (ndarray (n,)): 1d np array of the weights\n",
    "        b (scalar): bias\n",
    "        m (scalar): number of rows\n",
    "    \n",
    "    Returns:\n",
    "        J (scalar): the cost value\n",
    "    \"\"\"\n",
    "    \n",
    "    J = 0\n",
    "\n",
    "    for i in range(m):\n",
    "        J += (np.dot(w,x[i]) + b - y[i])**2\n",
    "    \n",
    "    J /= (2*m)\n",
    "    return J"
   ]
  },
  {
   "cell_type": "code",
   "execution_count": 33,
   "metadata": {},
   "outputs": [],
   "source": [
    "#func to find gradient\n",
    "\n",
    "def calculate_gradient(x, y, w, b, n, i):\n",
    "    \n",
    "    \"\"\"\n",
    "    used to find the gradient vector and dJ_db\n",
    "    Args:\n",
    "        x (ndarray (m,n)): 2d np array of the features\n",
    "        y (ndarray (m,)): 1d np array of the targets\n",
    "        w (ndarray (n,)): 1d np array of the weights\n",
    "        b (scalar): bias\n",
    "        n (scalar): number of cols\n",
    "        i (scalar): the row number\n",
    "    \n",
    "    Returns:\n",
    "        d (ndarray (n,)): 1d np array containing gradient of each of the weights wrt cost\n",
    "        dJ_db (scalar): the gradient of cost wrt bias\n",
    "    \"\"\"\n",
    "\n",
    "    d = []\n",
    "    dJ_db = 0\n",
    "\n",
    "    for j in range(n):\n",
    "        d.append(\n",
    "            ((np.dot(w,x[i]) + b - y[i])*x[i][j])\n",
    "        )\n",
    "    dJ_db += (np.dot(w,x[i]) + b - y[i])\n",
    "\n",
    "    d = np.array(d)\n",
    "\n",
    "    return d, dJ_db"
   ]
  },
  {
   "cell_type": "code",
   "execution_count": 34,
   "metadata": {},
   "outputs": [],
   "source": [
    "#the main func\n",
    "\n",
    "def linear_regr(x, y, w, b, m, n, a, e):\n",
    "\n",
    "\n",
    "    e_history = []\n",
    "    cost_history = []\n",
    "\n",
    "    tmp_df = df\n",
    "\n",
    "    for i in range(e):\n",
    "        for j in range(m):\n",
    "            d, dJ_db = calculate_gradient(x, y, w, b, n, j)\n",
    "\n",
    "            w -= a*d\n",
    "            b -= a*dJ_db\n",
    "\n",
    "        if (i+1)%100 == 0:\n",
    "            J = calculate_cost(x, y, w, b, m)\n",
    "            print(f\"iteration: {i+1} cost: {J}\")\n",
    "            e_history.append(i+1)\n",
    "            cost_history.append(J)\n",
    "\n",
    "        # x, y, shuff_df = shuffle(tmp_df, m)\n",
    "        # tmp_df = shuff_df\n",
    "\n",
    "    return w, b, e_history, cost_history"
   ]
  },
  {
   "cell_type": "code",
   "execution_count": 35,
   "metadata": {},
   "outputs": [
    {
     "name": "stdout",
     "output_type": "stream",
     "text": [
      "[0. 0. 0. 0.]\n",
      "iteration: 100 cost: 88.84812836688296\n",
      "iteration: 200 cost: 0.18756575982485912\n",
      "iteration: 300 cost: 0.00039654599859547984\n",
      "iteration: 400 cost: 8.39542888441766e-07\n",
      "iteration: 500 cost: 1.7798854449513868e-09\n",
      "iteration: 600 cost: 3.778594679523744e-12\n",
      "iteration: 700 cost: 8.032404963124829e-15\n",
      "iteration: 800 cost: 1.7097021163521943e-17\n",
      "iteration: 900 cost: 3.639608171922664e-20\n",
      "iteration: 1000 cost: 7.872608007971524e-23\n",
      "[ 38.05161505  41.54327451 -30.98894656  36.34177447]\n",
      "289.9999999999875\n"
     ]
    }
   ],
   "source": [
    "w_in = np.zeros(n)\n",
    "print(w_in)\n",
    "b_in = 0\n",
    "a = 0.01    #### it was 2.0e-8 when features were not scaled \n",
    "epochs = 1000\n",
    "\n",
    "x_train_scaled, mu, sigma = z_score_norm(x_train)\n",
    "\n",
    "w, b, e_history, cost_history = linear_regr(x_train_scaled, y_train, w_in, b_in, m, n, a, epochs)\n",
    "print(w)\n",
    "print(b)\n"
   ]
  },
  {
   "cell_type": "code",
   "execution_count": 36,
   "metadata": {},
   "outputs": [],
   "source": [
    "#Again SGD does perform better than BGD for same epochs and learning rate value given that feature scaling\n",
    "#is applied"
   ]
  },
  {
   "cell_type": "code",
   "execution_count": 37,
   "metadata": {},
   "outputs": [
    {
     "data": {
      "image/png": "[encoded data removed]",
      "text/plain": [
       "<Figure size 640x480 with 1 Axes>"
      ]
     },
     "metadata": {},
     "output_type": "display_data"
    }
   ],
   "source": [
    "plt.plot(e_history, cost_history)\n",
    "plt.title(\"Learning curve\")\n",
    "plt.xlabel(\"Epochs\")\n",
    "plt.ylabel(\"cost\")\n",
    "plt.show()"
   ]
  },
  {
   "cell_type": "code",
   "execution_count": 38,
   "metadata": {},
   "outputs": [],
   "source": [
    "def trained_model(x):\n",
    "    global w,b\n",
    "\n",
    "    \"\"\"\n",
    "    returns the best fit lines output\n",
    "    Args:\n",
    "        x (scalar): new input\n",
    "    Returns:\n",
    "        y (scalar): the predicted output    \n",
    "    \"\"\"\n",
    "    \n",
    "    y = np.dot(w, x) + b\n",
    "    return y"
   ]
  },
  {
   "cell_type": "code",
   "execution_count": 39,
   "metadata": {},
   "outputs": [
    {
     "name": "stdout",
     "output_type": "stream",
     "text": [
      "[460. 232. 178.]\n"
     ]
    }
   ],
   "source": [
    "#plotting the predicted targets vs actual ones\n",
    "#since there are multiple features we plot a shared plot with shared y and multiples x\n",
    "\n",
    "y_pred_training = []\n",
    "\n",
    "for g in range(m):\n",
    "    y_pred_training.append(trained_model(x_train_scaled[g]))\n",
    "\n",
    "y_pred_training = np.array(y_pred_training)\n",
    "print(y_pred_training)\n",
    "\n",
    "x_features = ['Size(sqft)','Number_of_Bedrooms','Number_of_floors','Age_of_Home']\n",
    "\n"
   ]
  },
  {
   "cell_type": "code",
   "execution_count": 40,
   "metadata": {},
   "outputs": [
    {
     "data": {
      "image/png": "[encoded data removed]",
      "text/plain": [
       "<Figure size 1200x300 with 4 Axes>"
      ]
     },
     "metadata": {},
     "output_type": "display_data"
    }
   ],
   "source": [
    "#cont..\n",
    "fig, ax = plt.subplots(1, 4, figsize=(12,3), sharey=True)\n",
    "\n",
    "for f in range(len(ax)):\n",
    "    ax[f].scatter(x_train[:, f], y_train,c='b', label='target')   #for the target\n",
    "    ax[f].set_xlabel(x_features[f])\n",
    "    ax[f].scatter(x_train[:, f], y_pred_training,c='r',label='predict')  #for the prediction\n",
    "\n",
    "ax[0].set_ylabel(\"Price(1000s of dollars)\")\n",
    "ax[0].legend()\n",
    "plt.show()\n",
    "\n"
   ]
  },
  {
   "cell_type": "code",
   "execution_count": null,
   "metadata": {},
   "outputs": [],
   "source": [
    "#the model is trained so good that the red dots overshadow the blue ones(might also be a case of overfitting)"
   ]
  }
 ],
 "metadata": {
  "kernelspec": {
   "display_name": "Python 3 (ipykernel)",
   "language": "python",
   "name": "python3"
  }
 },
 "nbformat": 4,
 "nbformat_minor": 2
}
