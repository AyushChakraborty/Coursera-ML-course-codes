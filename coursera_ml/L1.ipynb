{
 "cells": [
  {
   "cell_type": "code",
   "execution_count": 1,
   "metadata": {},
   "outputs": [],
   "source": [
    "#numpy arrays are actually tensors where np.array(1) is constant value, np.array([1,2,3,4]) is a\n",
    "# first order tensor or vector,  np.array([[1,2], [3,4]]) is a second order tensor or a matrix(any order), \n",
    "# np.array([[[1,2], [3,4]], [[4,5], [6,7]]]) is a third order tensor only \n",
    "\n",
    "#np.shape() gives us a tuple with the number of elements in each dimension, so in the above 3rd order tensor, \n",
    "# it will output {2, 2, 2}, ie, in the first dimension(corresponding to first bracket) there are 2 ele of 2D each\n",
    "# in the second dimension(the second bracket) there are 2 ele of 1D each, and in the third dim there are 2 ele\n",
    "#of 0D each"
   ]
  },
  {
   "cell_type": "code",
   "execution_count": 2,
   "metadata": {},
   "outputs": [],
   "source": [
    "#to plot a scatterplot using matplotlib.pyplot we use plt.scatter(np.array, np.array)\n",
    "#plt.show()\n",
    "\n",
    "#to plot a plot we use plt.plot(np.array, np.array)\n",
    "#np.zero(n) will return a 1st order tensor with n entries"
   ]
  },
  {
   "cell_type": "markdown",
   "metadata": {},
   "source": [
    "IMPLEMENTING BATCH GRADIENT DESCENT LINEAR REGRESSION ALGO \n",
    "with only 1 feature"
   ]
  },
  {
   "cell_type": "code",
   "execution_count": 1,
   "metadata": {},
   "outputs": [],
   "source": [
    "import sklearn"
   ]
  },
  {
   "cell_type": "code",
   "execution_count": 2,
   "metadata": {},
   "outputs": [],
   "source": [
    "import numpy as np\n",
    "import pandas as pd\n",
    "import matplotlib.pyplot as plt"
   ]
  },
  {
   "cell_type": "code",
   "execution_count": 3,
   "metadata": {},
   "outputs": [],
   "source": [
    "import matplotlib"
   ]
  },
  {
   "cell_type": "code",
   "execution_count": 7,
   "metadata": {},
   "outputs": [],
   "source": [
    "df = pd.read_csv('data.csv')  #loading the csv as a pandas dataframe\n",
    "arr = df.to_numpy()   #df converted to numpy array\n"
   ]
  },
  {
   "cell_type": "code",
   "execution_count": 8,
   "metadata": {},
   "outputs": [
    {
     "name": "stdout",
     "output_type": "stream",
     "text": [
      "[[  1 300]\n",
      " [  2 500]]\n",
      "2\n"
     ]
    }
   ],
   "source": [
    "print(arr)\n",
    "m = arr.shape[0]  #number of training samples\n",
    "print(m)"
   ]
  },
  {
   "cell_type": "code",
   "execution_count": 9,
   "metadata": {},
   "outputs": [
    {
     "name": "stdout",
     "output_type": "stream",
     "text": [
      "[1, 2]\n",
      "[300, 500]\n"
     ]
    }
   ],
   "source": [
    "x_train = []\n",
    "y_train = []\n",
    "\n",
    "for i in range(m):\n",
    "    x_train.append(arr[i][0])\n",
    "    y_train.append(arr[i][1])\n",
    "\n",
    "print(x_train)\n",
    "print(y_train)"
   ]
  },
  {
   "cell_type": "code",
   "execution_count": 10,
   "metadata": {},
   "outputs": [],
   "source": [
    "#function for finding cost\n",
    "def caculate_cost(x, y, w, b, m): \n",
    "\n",
    "    \"\"\"\n",
    "    Finds the gradient of the cost function J(w,b)\n",
    "    Args:\n",
    "        x (ndarray (m,)): feature data, m samples\n",
    "        y (ndarray (m,)): target data, m samples\n",
    "        w (scalar): weight\n",
    "        b (scalar): bias\n",
    "        m (scalar): number of traning samples\n",
    "    Returns:\n",
    "        J (scalar): cost value\n",
    "    \"\"\"\n",
    "    \n",
    "    J = 0\n",
    "    for i in range(m):\n",
    "        J += (w*x[i] + b - y[i])**2\n",
    "    J /= (2*m)\n",
    "    return J\n"
   ]
  },
  {
   "cell_type": "code",
   "execution_count": 11,
   "metadata": {},
   "outputs": [],
   "source": [
    "#defining the function to find gradient\n",
    "def calculate_gradient(x, y, w, b, m): \n",
    "\n",
    "    \"\"\"\n",
    "    Finds the gradient of the cost function J(w,b)\n",
    "    Args:\n",
    "        x (ndarray (m,)): feature data, m samples\n",
    "        y (ndarray (m,)): target data, m samples\n",
    "        w (scalar): weight\n",
    "        b (scalar): bias\n",
    "        m (scalar): number of training samples\n",
    "    Returns:\n",
    "        dJ_dw (scalar): the gradient of cost wrt w\n",
    "        dJ_db (scalar): the gradiene of cost wrt b\n",
    "    \"\"\"\n",
    "    \n",
    "    dJ_dw = 0\n",
    "    dJ_db = 0\n",
    "\n",
    "    for i in range(m):\n",
    "        dJ_dw += (w*x[i] + b - y[i])*x[i]\n",
    "        dJ_db += (w*x[i] + b - y[i])\n",
    "        \n",
    "    dJ_dw /= m\n",
    "    dJ_db /= m\n",
    "\n",
    "    return dJ_dw, dJ_db"
   ]
  },
  {
   "cell_type": "code",
   "execution_count": 12,
   "metadata": {},
   "outputs": [],
   "source": [
    "#The linear regression algo which uses batch gradient descent \n",
    "def linear_regr(x, y, w, b, m, a, e):\n",
    "\n",
    "    \"\"\"\n",
    "    Updates the values of w,b to find the best fit line\n",
    "    Args:\n",
    "        x (ndarray (m,)): feature data, m samples\n",
    "        y (ndarray (m,)): target data, m samples\n",
    "        w (scalar): weight\n",
    "        b (scalar): bias\n",
    "        m (scalar): number of traning samples\n",
    "        a (scalar): learning rate\n",
    "        e (scalar): number of epochs\n",
    "    Returns:\n",
    "        w (scalar): updated w\n",
    "        b (scalar): updated b\n",
    "        e_history (list): list of 1000th epoch\n",
    "        cost_history (list): list of cost at every 1000th epoch\n",
    "    \"\"\"\n",
    "\n",
    "    e_history = []\n",
    "    cost_history = []\n",
    "\n",
    "    for i in range(e):\n",
    "        dJ_dw, dJ_db = calculate_gradient(x, y, w, b, m)\n",
    "\n",
    "        w -= a*dJ_dw\n",
    "        b -= a*dJ_db\n",
    "\n",
    "\n",
    "        if (i+1)%1000 == 0:\n",
    "            J = caculate_cost(x, y, w, b, m)\n",
    "            print(f\"iteration: {i+1}  Cost: {J}\")\n",
    "            e_history.append(i+1)\n",
    "            cost_history.append(J)\n",
    "        \n",
    "\n",
    "\n",
    "    return w, b, e_history, cost_history"
   ]
  },
  {
   "cell_type": "code",
   "execution_count": 13,
   "metadata": {},
   "outputs": [
    {
     "name": "stdout",
     "output_type": "stream",
     "text": [
      "iteration: 1000  Cost: 3.417495171534028\n",
      "iteration: 2000  Cost: 0.7940531538321492\n",
      "iteration: 3000  Cost: 0.18449782061508938\n",
      "iteration: 4000  Cost: 0.04286796878451238\n",
      "iteration: 5000  Cost: 0.009960349350379087\n",
      "iteration: 6000  Cost: 0.0023142817818187526\n",
      "iteration: 7000  Cost: 0.0005377221197020276\n",
      "iteration: 8000  Cost: 0.00012493944354081244\n",
      "iteration: 9000  Cost: 2.902961209925379e-05\n",
      "iteration: 10000  Cost: 6.745014662580395e-06\n",
      "w: 199.99285075131766, b: 100.011567727362\n"
     ]
    }
   ],
   "source": [
    "w_in = 0\n",
    "b_in = 0\n",
    "a = 0.01\n",
    "epochs = 10000\n",
    "\n",
    "w, b, e_history, cost_history = linear_regr(x_train, y_train, w_in, b_in, m, a, epochs)\n",
    "e_history = np.array(e_history)\n",
    "cost_history = np.array(cost_history)\n",
    "print(f\"w: {w}, b: {b}\")\n",
    "\n",
    "#total number of iterations = epochs*m which is 10000*2 = 20000\n"
   ]
  },
  {
   "cell_type": "code",
   "execution_count": 14,
   "metadata": {},
   "outputs": [
    {
     "data": {
      "image/png": "[encoded data removed]",
      "text/plain": [
       "<Figure size 640x480 with 1 Axes>"
      ]
     },
     "metadata": {},
     "output_type": "display_data"
    }
   ],
   "source": [
    "#plotting the learning curve(epochs vs cost)\n",
    "plt.plot(e_history, cost_history)\n",
    "plt.title(\"Learning curve\")\n",
    "plt.xlabel(\"Epochs\")\n",
    "plt.ylabel(\"Cost\")\n",
    "plt.show()"
   ]
  },
  {
   "cell_type": "code",
   "execution_count": 15,
   "metadata": {},
   "outputs": [],
   "source": [
    "#trained model\n",
    "def trained_model(x):\n",
    "    global w,b\n",
    "\n",
    "    \"\"\"\n",
    "    returns the best fit lines output\n",
    "    Args:\n",
    "        x (scalar): new input\n",
    "    Returns:\n",
    "        y (scalar): the predicted output    \n",
    "    \"\"\"\n",
    "    \n",
    "    y = w*x + b\n",
    "    return y"
   ]
  },
  {
   "cell_type": "code",
   "execution_count": 16,
   "metadata": {},
   "outputs": [
    {
     "name": "stdout",
     "output_type": "stream",
     "text": [
      "predicted output: 699.990119981315\n"
     ]
    }
   ],
   "source": [
    "y = trained_model(3)\n",
    "print(f\"predicted output: {y}\")"
   ]
  },
  {
   "cell_type": "code",
   "execution_count": null,
   "metadata": {},
   "outputs": [],
   "source": []
  },
  {
   "cell_type": "code",
   "execution_count": null,
   "metadata": {},
   "outputs": [],
   "source": []
  }
 ],
 "metadata": {
  "kernelspec": {
   "display_name": "Python 3 (ipykernel)",
   "language": "python",
   "name": "python3"
  },
  "language_info": {
   "codemirror_mode": {
    "name": "ipython",
    "version": 3
   },
   "file_extension": ".py",
   "mimetype": "text/x-python",
   "name": "python",
   "nbconvert_exporter": "python",
   "pygments_lexer": "ipython3",
   "version": "3.11.5"
  }
 },
 "nbformat": 4,
 "nbformat_minor": 4
}
