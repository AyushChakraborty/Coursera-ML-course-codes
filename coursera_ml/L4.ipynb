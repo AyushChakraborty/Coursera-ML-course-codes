{
 "cells": [
  {
   "cell_type": "code",
   "execution_count": 8,
   "metadata": {},
   "outputs": [],
   "source": [
    "import numpy as np\n",
    "import pandas as pd\n",
    "import matplotlib.pyplot as plt"
   ]
  },
  {
   "cell_type": "markdown",
   "metadata": {},
   "source": [
    "IMPLEMENTING MULTIPLE LINEAR REGRESSION WITH BATCH GRADIENT DESCENT"
   ]
  },
  {
   "cell_type": "code",
   "execution_count": 9,
   "metadata": {},
   "outputs": [
    {
     "name": "stdout",
     "output_type": "stream",
     "text": [
      "[[2104    5    1   45  460]\n",
      " [1416    3    2   40  232]\n",
      " [ 852    2    1   35  178]]\n"
     ]
    }
   ],
   "source": [
    "df = pd.read_csv('C:\\\\Users\\\\Lenovo\\\\Desktop\\\\coursera_ml\\\\data2.csv')\n",
    "#.read_csv() inherently gets rid of the first row expecting that it might be a name row\n",
    "arr = df.to_numpy()\n",
    "print(arr)"
   ]
  },
  {
   "cell_type": "code",
   "execution_count": 10,
   "metadata": {},
   "outputs": [
    {
     "name": "stdout",
     "output_type": "stream",
     "text": [
      "3 4\n"
     ]
    }
   ],
   "source": [
    "m = arr.shape[0]  #number of rows, or training egs\n",
    "n = arr.shape[1]-1  #number of cols or features\n",
    "print(m, n)"
   ]
  },
  {
   "cell_type": "code",
   "execution_count": 11,
   "metadata": {},
   "outputs": [
    {
     "name": "stdout",
     "output_type": "stream",
     "text": [
      "[[2104    5    1   45]\n",
      " [1416    3    2   40]\n",
      " [ 852    2    1   35]]\n",
      "[460 232 178]\n"
     ]
    }
   ],
   "source": [
    "x_train = []\n",
    "y_train = []\n",
    "\n",
    "for i in range(m):\n",
    "    x_train.append(arr[i][:n])\n",
    "    y_train.append(arr[i][n])\n",
    "\n",
    "x_train = np.array(x_train) #2nd order tensor\n",
    "y_train = np.array(y_train)  #1st order tensor\n",
    "\n",
    "\n",
    "print(x_train)\n",
    "print(y_train)"
   ]
  },
  {
   "cell_type": "code",
   "execution_count": 12,
   "metadata": {},
   "outputs": [],
   "source": [
    "#func to scale the features\n",
    "\n",
    "def z_score_norm(x):\n",
    "\n",
    "    \"\"\"\n",
    "    func to normalise the features using z score normalisation\n",
    "\n",
    "    Args:\n",
    "        x (ndarray (m,n)): the input feature matrix\n",
    "    \n",
    "    returns:\n",
    "        x_norm (ndarray (m,n)): the scaled features \n",
    "        mu (ndarray (n,)): the mean values for each of the features\n",
    "        sigma (ndarray (n,)): the std dev values for each of the features    \n",
    "    \"\"\"\n",
    "\n",
    "    mu = np.mean(x, axis=0)   #returns ndarray (n,)\n",
    "    sigma = np.std(x, axis=0)  # same \n",
    "\n",
    "    x_norm = (x-mu)/sigma #the ndarray(m,n) with normalisation\n",
    "\n",
    "    return x_norm, mu, sigma\n"
   ]
  },
  {
   "cell_type": "code",
   "execution_count": 13,
   "metadata": {},
   "outputs": [],
   "source": [
    "#func to calculate cost\n",
    "\n",
    "def calculate_cost(x, y, w, b, m):\n",
    "\n",
    "    \"\"\"\n",
    "    used to find the cost value at any instant of the model\n",
    "    Args:\n",
    "        x (ndarray (m,n)): 2d np array of the features\n",
    "        y (ndarray (m,)): 1d np array of the targets\n",
    "        w (ndarray (n,)): 1d np array of the weights\n",
    "        b (scalar): bias\n",
    "        m (scalar): number of rows\n",
    "    \n",
    "    Returns:\n",
    "        cost (scalar): the cost value\n",
    "    \"\"\"\n",
    "    \n",
    "    cost = 0\n",
    "    for i in range(m):\n",
    "        cost += (np.dot(w, x[i]) + b - y[i])**2\n",
    "    cost /= (2*m)\n",
    "\n",
    "    return cost"
   ]
  },
  {
   "cell_type": "code",
   "execution_count": 14,
   "metadata": {},
   "outputs": [],
   "source": [
    "#func to find gradient vector, dJ_db\n",
    "\n",
    "def calculate_gradient(x, y, w, b, m, n):\n",
    "\n",
    "    \"\"\"\n",
    "    used to find the gradient vector and dJ_db\n",
    "    Args:\n",
    "        x (ndarray (m,n)): 2d np array of the features\n",
    "        y (ndarray (m,)): 1d np array of the targets\n",
    "        w (ndarray (n,)): 1d np array of the weights\n",
    "        b (scalar): bias\n",
    "        m (scalar): number of rows\n",
    "        n (scalar): number of cols\n",
    "    \n",
    "    Returns:\n",
    "        d (ndarray (n,)): 1d np array containing gradient of each of the weights wrt cost\n",
    "        dJ_db (scalar): the gradient of cost wrt bias\n",
    "    \"\"\"\n",
    "\n",
    "\n",
    "    d = [] #gradient vector\n",
    "    dJ_db = 0\n",
    "\n",
    "    for i in range(n):\n",
    "        d.append(sum([(np.dot(w, x[j]) + b - y[j])*x[j][i] for j in range(m)])/m)\n",
    "    \n",
    "    for k in range(m):\n",
    "        dJ_db += (np.dot(w, x[k]) + b - y[k])\n",
    "\n",
    "    dJ_db /= m\n",
    "\n",
    "    d = np.array(d)\n",
    "\n",
    "    return d, dJ_db"
   ]
  },
  {
   "cell_type": "code",
   "execution_count": 15,
   "metadata": {},
   "outputs": [],
   "source": [
    "#main algo\n",
    "\n",
    "def linear_regr(x, y, w, b, m, n, a, e):\n",
    "\n",
    "    \"\"\"\n",
    "    Updates the values of w,b to find the best fit line\n",
    "    Args:\n",
    "        x (ndarray (m,n)): feature data\n",
    "        y (ndarray (m,)): target data, m samples\n",
    "        w (scalar): weight\n",
    "        b (scalar): bias\n",
    "        m (scalar): number of traning samples\n",
    "        n (scalar): number of features\n",
    "        a (scalar): learning rate\n",
    "        e (scalar): number of epochs\n",
    "    Returns:\n",
    "        w (ndarray (n,)): updated w vector\n",
    "        b (scalar): updated b\n",
    "        e_history (list): list of 1000th epoch\n",
    "        cost_history (list): list of cost at every 1000th epoch\n",
    "    \"\"\"\n",
    "\n",
    "    e_history = []\n",
    "    cost_history = []\n",
    "\n",
    "    for i in range(e):\n",
    "        d, dJ_db = calculate_gradient(x, y, w, b, m, n)\n",
    "        w -= a*d\n",
    "        b -= a*dJ_db\n",
    "\n",
    "        if (i+1)%100 == 0:\n",
    "            J = calculate_cost(x, y, w, b, m)\n",
    "            print(f\"Iteration: {i+1} cost: {J}\")\n",
    "            e_history.append(i+1)\n",
    "            cost_history.append(J)\n",
    "\n",
    "    return w, b, e_history, cost_history"
   ]
  },
  {
   "cell_type": "code",
   "execution_count": 16,
   "metadata": {},
   "outputs": [
    {
     "name": "stdout",
     "output_type": "stream",
     "text": [
      "Iteration: 100 cost: 5696.456831225135\n",
      "Iteration: 200 cost: 760.941920822248\n",
      "Iteration: 300 cost: 101.93136706123856\n",
      "Iteration: 400 cost: 13.65482285574898\n",
      "Iteration: 500 cost: 1.8292190201541931\n",
      "Iteration: 600 cost: 0.24504530908226405\n",
      "Iteration: 700 cost: 0.03282676607046066\n",
      "Iteration: 800 cost: 0.0043975502616099916\n",
      "Iteration: 900 cost: 0.0005891074439312887\n",
      "Iteration: 1000 cost: 7.891856483644776e-05\n",
      "[ 38.05168398  41.54320558 -30.98791712  36.34190238]\n",
      "289.987480338251\n"
     ]
    }
   ],
   "source": [
    "w_in = np.zeros(n)\n",
    "b_in = 0\n",
    "a = 0.01  #learning rate when normalisation was not applied was 5.0e-7 which is far smaller than this \n",
    "epochs = 1000  \n",
    "\n",
    "\n",
    "x_train_scaled, mu, sigma = z_score_norm(x_train)\n",
    "\n",
    "w, b, e_history, cost_history = linear_regr(x_train_scaled, y_train, w_in, b_in, m, n, a, epochs)\n",
    "print(w)\n",
    "print(b)"
   ]
  },
  {
   "cell_type": "code",
   "execution_count": 17,
   "metadata": {},
   "outputs": [
    {
     "data": {
      "image/png": "[encoded data removed]",
      "text/plain": [
       "<Figure size 640x480 with 1 Axes>"
      ]
     },
     "metadata": {},
     "output_type": "display_data"
    }
   ],
   "source": [
    "plt.plot(e_history, cost_history)\n",
    "plt.title(\"Learning curve\")\n",
    "plt.xlabel(\"Epochs\")\n",
    "plt.ylabel(\"cost\")\n",
    "plt.show()"
   ]
  },
  {
   "cell_type": "code",
   "execution_count": 18,
   "metadata": {},
   "outputs": [],
   "source": [
    "#cost history when feature scaling was not used, and a = 5.0e-7\n",
    "\n",
    "#Iteration: 100 cost: 696.0010595124644\n",
    "# Iteration: 200 cost: 694.9313476914762\n",
    "# Iteration: 300 cost: 693.8709864577195\n",
    "# Iteration: 400 cost: 692.8198930237817\n",
    "# Iteration: 500 cost: 691.7779853352548\n",
    "# Iteration: 600 cost: 690.7451820642369\n",
    "# Iteration: 700 cost: 689.7214026029069\n",
    "# Iteration: 800 cost: 688.706567057147\n",
    "# Iteration: 900 cost: 687.7005962402227\n",
    "# Iteration: 1000 cost: 686.7034116665205\n",
    "# [ 0.20396569  0.00374919 -0.0112487  -0.0658614 ]\n",
    "# -0.002235407530932535"
   ]
  }
 ],
 "metadata": {
  "kernelspec": {
   "display_name": "Python 3 (ipykernel)",
   "language": "python",
   "name": "python3"
  }
 },
 "nbformat": 4,
 "nbformat_minor": 2
}
