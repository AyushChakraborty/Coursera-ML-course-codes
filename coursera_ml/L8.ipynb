{
 "cells": [
  {
   "cell_type": "markdown",
   "metadata": {},
   "source": [
    "FROM THIS LAB ONWARDS WE TALK ABOUT CLASSIFICATION"
   ]
  },
  {
   "cell_type": "code",
   "execution_count": 1,
   "metadata": {},
   "outputs": [],
   "source": [
    "import numpy as np\n",
    "import matplotlib.pyplot as plt"
   ]
  },
  {
   "cell_type": "code",
   "execution_count": 2,
   "metadata": {},
   "outputs": [
    {
     "name": "stdout",
     "output_type": "stream",
     "text": [
      "[[0.5 1.5]\n",
      " [1.  1. ]\n",
      " [1.5 0.5]\n",
      " [3.  0.5]\n",
      " [2.  2. ]\n",
      " [1.  2.5]]\n",
      "[0 0 0 1 1 1]\n"
     ]
    }
   ],
   "source": [
    "x = np.array([[0.5, 1.5], [1,1], [1.5, 0.5], [3, 0.5], [2, 2], [1, 2.5]])\n",
    "y = np.array([0, 0, 0, 1, 1, 1])\n",
    "\n",
    "print(x)\n",
    "print(y)"
   ]
  },
  {
   "cell_type": "code",
   "execution_count": 3,
   "metadata": {},
   "outputs": [
    {
     "name": "stdout",
     "output_type": "stream",
     "text": [
      "[[3.  0.5]\n",
      " [2.  2. ]\n",
      " [1.  2.5]]\n",
      "[[0.5 1.5]\n",
      " [1.  1. ]\n",
      " [1.5 0.5]]\n"
     ]
    }
   ],
   "source": [
    "#plotting a scatterplot of the feature space\n",
    "x_1 = []  #  values of features for which output is 1\n",
    "x_0 = []  # values of feautres for which output is 0\n",
    "\n",
    "for i in range(6):\n",
    "    if y[i] == 1:\n",
    "        x_1.append(x[i])\n",
    "    else:\n",
    "        x_0.append(x[i])\n",
    "\n",
    "x_1 = np.array(x_1)\n",
    "x_0 = np.array(x_0)\n",
    "print(x_1)\n",
    "print(x_0)"
   ]
  },
  {
   "cell_type": "code",
   "execution_count": 4,
   "metadata": {},
   "outputs": [],
   "source": [
    "x0 = x[:, 0]  #the first feature\n",
    "x1 = x[:, 1]    #the second feature"
   ]
  },
  {
   "cell_type": "code",
   "execution_count": 5,
   "metadata": {},
   "outputs": [
    {
     "data": {
      "image/png": "[encoded data removed]",
      "text/plain": [
       "<Figure size 640x480 with 1 Axes>"
      ]
     },
     "metadata": {},
     "output_type": "display_data"
    }
   ],
   "source": [
    "plt.scatter(x_1[:, 0], x_1[:, 1], c='r', marker='^')\n",
    "plt.scatter(x_0[:, 0], x_0[:, 1], c='b', marker='s')\n",
    "plt.xlabel(\"$x_0$\")  #first feature\n",
    "plt.ylabel(\"$x_1$\")  #second feature\n",
    "\n",
    "#plotting also the decision boundary which is already known\n",
    "plt.plot(x0, 3-x0, c='y')  #assuming w0 = 1, w1 = 1, b = -3\n",
    "plt.show() "
   ]
  },
  {
   "cell_type": "code",
   "execution_count": 6,
   "metadata": {},
   "outputs": [],
   "source": [
    "#red ones are the positive classes and blue are neg classes"
   ]
  },
  {
   "cell_type": "code",
   "execution_count": 7,
   "metadata": {},
   "outputs": [],
   "source": [
    "#np.log has base e"
   ]
  }
 ],
 "metadata": {
  "kernelspec": {
   "display_name": "Python 3 (ipykernel)",
   "language": "python",
   "name": "python3"
  },
  "language_info": {
   "codemirror_mode": {
    "name": "ipython",
    "version": 3
   },
   "file_extension": ".py",
   "mimetype": "text/x-python",
   "name": "python",
   "nbconvert_exporter": "python",
   "pygments_lexer": "ipython3",
   "version": "3.12.4"
  }
 },
 "nbformat": 4,
 "nbformat_minor": 2
}
