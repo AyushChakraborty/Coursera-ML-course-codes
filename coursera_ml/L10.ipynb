{
 "cells": [
  {
   "cell_type": "markdown",
   "metadata": {},
   "source": [
    "IMPLEMENTING LOGISTIC REGRESSION USING STOCHASTIC GRADIENT DESCENT"
   ]
  },
  {
   "cell_type": "code",
   "execution_count": 2,
   "metadata": {},
   "outputs": [],
   "source": [
    "import numpy as np\n",
    "import pandas as pd\n",
    "import matplotlib.pyplot as plt"
   ]
  },
  {
   "cell_type": "code",
   "execution_count": 9,
   "metadata": {},
   "outputs": [
    {
     "name": "stdout",
     "output_type": "stream",
     "text": [
      "[[0.5 1.5]\n",
      " [1.  1. ]\n",
      " [1.5 0.5]\n",
      " [3.  0.5]\n",
      " [2.  2. ]\n",
      " [1.  2.5]]\n",
      "[0 0 0 1 1 1]\n",
      "6 2\n",
      "<class 'numpy.ndarray'>\n",
      "yes\n"
     ]
    }
   ],
   "source": [
    "x_train = np.array([[0.5, 1.5], [1,1], [1.5, 0.5], [3, 0.5], [2, 2], [1, 2.5]])\n",
    "y_train = np.array([0, 0, 0, 1, 1, 1])\n",
    "\n",
    "m = x_train.shape[0]  #number of data samples\n",
    "n = x_train.shape[1]  #number of features\n",
    "\n",
    "print(x_train)\n",
    "print(y_train)\n",
    "print(m,n)\n",
    "print(type(x_train))\n",
    "if type(x_train) == np.ndarray:\n",
    "    print('yes')"
   ]
  },
  {
   "cell_type": "markdown",
   "metadata": {},
   "source": [
    "plotting the feature space"
   ]
  },
  {
   "cell_type": "code",
   "execution_count": 4,
   "metadata": {},
   "outputs": [
    {
     "name": "stdout",
     "output_type": "stream",
     "text": [
      "[[0.5 1.5]\n",
      " [1.  1. ]\n",
      " [1.5 0.5]]\n",
      "[[3.  0.5]\n",
      " [2.  2. ]\n",
      " [1.  2.5]]\n"
     ]
    }
   ],
   "source": [
    "x_0 = []  #has those data samples which have a negative class output\n",
    "x_1 = []  #has those data samples which have a positive class output\n",
    "\n",
    "for i in range(m):\n",
    "    if y_train[i] == 0:\n",
    "        x_0.append(x_train[i])\n",
    "    else:\n",
    "        x_1.append(x_train[i])\n",
    "\n",
    "x_0 = np.array(x_0); x_1 = np.array(x_1)\n",
    "print(x_0)\n",
    "print(x_1)"
   ]
  },
  {
   "cell_type": "code",
   "execution_count": 5,
   "metadata": {},
   "outputs": [
    {
     "name": "stdout",
     "output_type": "stream",
     "text": [
      "[0.5 1.  1.5 3.  2.  1. ]\n",
      "[1.5 1.  0.5 0.5 2.  2.5]\n"
     ]
    }
   ],
   "source": [
    "x0 = x_train[:, 0]  #first feature\n",
    "x1 = x_train[:, 1]  #second feature\n",
    "\n",
    "print(x0)\n",
    "print(x1)"
   ]
  },
  {
   "cell_type": "code",
   "execution_count": 6,
   "metadata": {},
   "outputs": [
    {
     "data": {
      "image/png": "[encoded data removed]",
      "text/plain": [
       "<Figure size 432x288 with 1 Axes>"
      ]
     },
     "metadata": {
      "needs_background": "light"
     },
     "output_type": "display_data"
    }
   ],
   "source": [
    "plt.scatter(x_1[:, 0], x_1[:, 1], c='r', marker='s')  #red ones are positive class\n",
    "plt.xlabel(\"$x_0$: first feature\")\n",
    "plt.scatter(x_0[:, 0], x_0[:, 1], c='b', marker='^')  #blue ones are neg class\n",
    "plt.ylabel(\"$x_1$: second feature\")\n",
    "plt.title('Feature space')\n",
    "plt.show()"
   ]
  },
  {
   "cell_type": "markdown",
   "metadata": {},
   "source": [
    "finding the cost "
   ]
  },
  {
   "cell_type": "code",
   "execution_count": 7,
   "metadata": {},
   "outputs": [],
   "source": [
    "def sigmoid(x, w, b):\n",
    "    \"\"\"\n",
    "    returns the sigmoid of w.x + b\n",
    "\n",
    "    Args: \n",
    "        x (ndarray (n,)): a single data point\n",
    "        w (ndarray (n,)): vector of feature weights\n",
    "        b (scalar): bias\n",
    "\n",
    "    Returns:\n",
    "        s (scalar): the sigmoid of w.x + b\n",
    "    \"\"\"\n",
    "    s = 1/(1+np.exp(-np.dot(w, x) - b))\n",
    "    return s"
   ]
  },
  {
   "cell_type": "code",
   "execution_count": 8,
   "metadata": {},
   "outputs": [],
   "source": [
    "def calculate_cost(x, y, w, b, m):\n",
    "    \"\"\"\n",
    "    returns the cost for a specific data sample\n",
    "\n",
    "    Args: \n",
    "        x (ndarray (m,n)): matrix of the features\n",
    "        y (ndarray (m,)): array of the targets\n",
    "        w (ndarray (n,)): weight array\n",
    "        b (scalar): bias\n",
    "        m (scalar): number of data samples\n",
    "\n",
    "    Returns:\n",
    "        J (scalar): the cost for that data sample\n",
    "    \"\"\"\n",
    "\n",
    "    J = 0\n",
    "\n",
    "    for i in range(m):\n",
    "        J += y[i]*np.log(sigmoid(x[i], w, b)) + (1-y[i])*np.log(1 - sigmoid(x[i], w, b))\n",
    "\n",
    "    J /= (-m)\n",
    "\n",
    "    return J"
   ]
  },
  {
   "cell_type": "markdown",
   "metadata": {},
   "source": [
    "finding the gradient vector"
   ]
  },
  {
   "cell_type": "code",
   "execution_count": 9,
   "metadata": {},
   "outputs": [],
   "source": [
    "def calculate_gradient(x, y, w, b, m, n, j):\n",
    "    \"\"\"\n",
    "    returns d(gradient vector for each of the features) and dJ_db(gradient of cost wrt b)\n",
    "\n",
    "    Args:\n",
    "        x (ndarray (m,n)): the feature matrix\n",
    "        y (ndarray (m,)): array containing the targets\n",
    "        w (ndarray (n,)): the weight array for the features\n",
    "        b (scalar): the bias\n",
    "        m (scalar): the number of training samples\n",
    "        n (scalar): the number of features\n",
    "        j (scalar): ith training sample\n",
    "\n",
    "    Returns:\n",
    "        d (ndarray (n,)): the gradient of cost wrt each of the features\n",
    "        dJ_db (scalar): the gradient of cost wrt b for that data sample\n",
    "    \"\"\"\n",
    "    d = []\n",
    "    dJ_db = 0\n",
    "\n",
    "    for i in range(n):\n",
    "        d.append(\n",
    "            (sigmoid(x[j], w, b) - y[j])*x[j][i]\n",
    "        )\n",
    "    \n",
    "    dJ_db += (sigmoid(x[j], w, b)- y[j])\n",
    "\n",
    "    d = np.array(d)\n",
    "\n",
    "    return d, dJ_db"
   ]
  },
  {
   "cell_type": "markdown",
   "metadata": {},
   "source": [
    "implementing the logistic regression"
   ]
  },
  {
   "cell_type": "code",
   "execution_count": 10,
   "metadata": {},
   "outputs": [],
   "source": [
    "def logistic_regr(x, y, w, b, m, n, e, a):\n",
    "    \"\"\"\n",
    "    returns d(gradient vector), dJ_db (grdient of cost wrt b), e_history, cost_history\n",
    "\n",
    "    Args:\n",
    "        x (ndarray (m,n)): feature matrix\n",
    "        y (ndarray (m,)): array with target values\n",
    "        w (ndarray (n,)): array with weights for the features\n",
    "        b (scalar): bias\n",
    "        m (scalar): number of training samples\n",
    "        n (scalar): number of features\n",
    "        e (scalar): number of epochs\n",
    "        a (scalar): learning rate\n",
    "\n",
    "    Returns:\n",
    "        w (ndarray (n,)): trained weights\n",
    "        b (scalar): trained value of bias\n",
    "        e_history (list): list of every 100s of epochs\n",
    "        cost_history (list): list of cost for every 100 epoch\n",
    "    \"\"\"\n",
    "\n",
    "\n",
    "    e_history = []\n",
    "    cost_history = []\n",
    "\n",
    "    for i in range(e):   #epochs\n",
    "        for j in range(m):  #going through the dataset\n",
    "            d, dJ_db = calculate_gradient(x, y, w, b, m, n, j)\n",
    "\n",
    "            w -= a*d\n",
    "            b -= a*dJ_db\n",
    "\n",
    "        if (i+1)%1000 == 0 or i ==0:\n",
    "            J = calculate_cost(x, y, w, b, m)\n",
    "            e_history.append(i+1)\n",
    "            cost_history.append(J)\n",
    "            print(f\"Iteration: {i+1} cost: {J}\")\n",
    "        \n",
    "    return w, b, e_history, cost_history"
   ]
  },
  {
   "cell_type": "code",
   "execution_count": 13,
   "metadata": {},
   "outputs": [
    {
     "name": "stdout",
     "output_type": "stream",
     "text": [
      "Iteration: 1 cost: 0.6544675560607351\n",
      "Iteration: 1000 cost: 0.02801604081232315\n",
      "Iteration: 2000 cost: 0.014056422203342722\n",
      "Iteration: 3000 cost: 0.009379445513797298\n",
      "Iteration: 4000 cost: 0.00703802059820783\n",
      "Iteration: 5000 cost: 0.005632360380477476\n"
     ]
    }
   ],
   "source": [
    "w_in = np.zeros(n)\n",
    "b_in = 0\n",
    "a = 0.1\n",
    "epochs = 5000   #at half the epochs its already a better cost\n",
    "\n",
    "w, b, e_history, cost_history = logistic_regr(x_train, y_train, w_in, b_in, m, n, epochs, a)"
   ]
  },
  {
   "cell_type": "code",
   "execution_count": 14,
   "metadata": {},
   "outputs": [
    {
     "name": "stdout",
     "output_type": "stream",
     "text": [
      "[6.76034308 6.55685856]\n",
      "-18.296430405167204\n"
     ]
    }
   ],
   "source": [
    "print(w)\n",
    "print(b)"
   ]
  },
  {
   "cell_type": "markdown",
   "metadata": {},
   "source": [
    "plotting the learning curve"
   ]
  },
  {
   "cell_type": "code",
   "execution_count": 15,
   "metadata": {},
   "outputs": [
    {
     "data": {
      "image/png": "[encoded data removed]",
      "text/plain": [
       "<Figure size 432x288 with 1 Axes>"
      ]
     },
     "metadata": {
      "needs_background": "light"
     },
     "output_type": "display_data"
    }
   ],
   "source": [
    "plt.plot(e_history, cost_history)\n",
    "plt.xlabel(\"Epochs\")\n",
    "plt.ylabel(\"cost\")\n",
    "plt.title(\"Learning curve\")\n",
    "plt.show()"
   ]
  },
  {
   "cell_type": "markdown",
   "metadata": {},
   "source": [
    "plotting the feature space again with the newfound decision boundary line"
   ]
  },
  {
   "cell_type": "code",
   "execution_count": 16,
   "metadata": {},
   "outputs": [
    {
     "data": {
      "image/png": "[encoded data removed]",
      "text/plain": [
       "<Figure size 432x288 with 1 Axes>"
      ]
     },
     "metadata": {
      "needs_background": "light"
     },
     "output_type": "display_data"
    }
   ],
   "source": [
    "plt.scatter(x_1[:, 0], x_1[:, 1], c='r', marker='s')  #red ones are positive class\n",
    "plt.xlabel(\"$x_0$: first feature\")\n",
    "plt.scatter(x_0[:, 0], x_0[:, 1], c='b', marker='^')  #blue ones are neg class\n",
    "plt.ylabel(\"$x_1$: second feature\")\n",
    "plt.title('Feature space')\n",
    "\n",
    "plt.plot(x0, (-b-w[0]*x0)/w[1])  #decision boundary line, the case when threshold value is 0.5\n",
    "\n",
    "plt.show()"
   ]
  },
  {
   "cell_type": "markdown",
   "metadata": {},
   "source": [
    "making predictions"
   ]
  },
  {
   "cell_type": "code",
   "execution_count": 17,
   "metadata": {},
   "outputs": [],
   "source": [
    "def trained_model(x):\n",
    "    \"\"\"\n",
    "    returns the output of the classification type model made here\n",
    "\n",
    "    Args:\n",
    "        x (ndarray (n,)): a single data sample\n",
    "\n",
    "    Returns:\n",
    "        o (scalar): the output, 0 or 1\n",
    "    \"\"\"\n",
    "    global w, b\n",
    "    \n",
    "    o = 0\n",
    "    o_ = sigmoid(x, w, b)\n",
    "    if o_ >= 0.5:\n",
    "        o = 1\n",
    "    \n",
    "    return o"
   ]
  },
  {
   "cell_type": "code",
   "execution_count": 18,
   "metadata": {},
   "outputs": [
    {
     "name": "stdout",
     "output_type": "stream",
     "text": [
      "1\n"
     ]
    },
    {
     "ename": "",
     "evalue": "",
     "output_type": "error",
     "traceback": [
      "\u001b[1;31mThe Kernel crashed while executing code in the current cell or a previous cell. \n",
      "\u001b[1;31mPlease review the code in the cell(s) to identify a possible cause of the failure. \n",
      "\u001b[1;31mClick <a href='https://aka.ms/vscodeJupyterKernelCrash'>here</a> for more info. \n",
      "\u001b[1;31mView Jupyter <a href='command:jupyter.viewOutput'>log</a> for further details."
     ]
    }
   ],
   "source": [
    "output = trained_model(np.array([1, 9]))\n",
    "print(output)"
   ]
  },
  {
   "cell_type": "code",
   "execution_count": null,
   "metadata": {},
   "outputs": [],
   "source": []
  }
 ],
 "metadata": {
  "kernelspec": {
   "display_name": "Python 3",
   "language": "python",
   "name": "python3"
  },
  "language_info": {
   "codemirror_mode": {
    "name": "ipython",
    "version": 3
   },
   "file_extension": ".py",
   "mimetype": "text/x-python",
   "name": "python",
   "nbconvert_exporter": "python",
   "pygments_lexer": "ipython3",
   "version": "3.8.5"
  }
 },
 "nbformat": 4,
 "nbformat_minor": 2
}
