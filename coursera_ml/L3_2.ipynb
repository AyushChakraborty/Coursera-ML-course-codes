{
 "cells": [
  {
   "cell_type": "code",
   "execution_count": 1,
   "metadata": {},
   "outputs": [],
   "source": [
    "import numpy as np"
   ]
  },
  {
   "cell_type": "code",
   "execution_count": 33,
   "metadata": {},
   "outputs": [
    {
     "name": "stdout",
     "output_type": "stream",
     "text": [
      "[3. 4.]\n"
     ]
    }
   ],
   "source": [
    "X= np.array([[1,2], [3,4], [5,6]])\n",
    "mean = np.sum(X, axis=0)/X.shape[0]\n",
    "print(mean)\n",
    "# print(X.shape)\n",
    "# X = np.reshape(X, (X.shape[1], X.shape[0]))\n",
    "# print(X)\n",
    "# print(X.shape)\n",
    "# print(mean.shape)\n",
    "# mean = np.reshape(mean, (-1, mean.shape[0]))\n",
    "\n",
    "# print(mean)\n",
    "# print(mean.shape)\n",
    "\n",
    "# z = np.zeros((X.shape))\n",
    "# print(z.shape)\n",
    "# m = z + mean"
   ]
  },
  {
   "cell_type": "code",
   "execution_count": 35,
   "metadata": {},
   "outputs": [
    {
     "name": "stdout",
     "output_type": "stream",
     "text": [
      "[8. 8.]\n"
     ]
    }
   ],
   "source": [
    "var = np.sum((X - mean)**2, axis=0)\n",
    "print(var)"
   ]
  },
  {
   "cell_type": "code",
   "execution_count": 70,
   "metadata": {},
   "outputs": [
    {
     "name": "stdout",
     "output_type": "stream",
     "text": [
      "[1 1 0 1]\n",
      "[1 0 0 1]\n",
      "2\n"
     ]
    }
   ],
   "source": [
    "a = np.array([1,0,1,1])\n",
    "b = np.array([1,0,0,1])\n",
    "# tp = (a==b, a==1).astype(int)\n",
    "tp = (a==b).astype(int)\n",
    "print(tp)\n",
    "for i in range(len(tp)):\n",
    "    if a[i]==1 and b[i]==1:\n",
    "        tp[i] = 1\n",
    "    elif a[i] == 0 and b[i]==0:\n",
    "        tp[i] = 0\n",
    "print(tp)\n",
    "print(len(np.where(tp==1)[0]))"
   ]
  },
  {
   "cell_type": "code",
   "execution_count": 71,
   "metadata": {},
   "outputs": [],
   "source": [
    "#use logical &, | etc between numpy arrays"
   ]
  },
  {
   "cell_type": "code",
   "execution_count": null,
   "metadata": {},
   "outputs": [],
   "source": []
  }
 ],
 "metadata": {
  "kernelspec": {
   "display_name": "Python 3 (ipykernel)",
   "language": "python",
   "name": "python3"
  },
  "language_info": {
   "codemirror_mode": {
    "name": "ipython",
    "version": 3
   },
   "file_extension": ".py",
   "mimetype": "text/x-python",
   "name": "python",
   "nbconvert_exporter": "python",
   "pygments_lexer": "ipython3",
   "version": "3.12.4"
  }
 },
 "nbformat": 4,
 "nbformat_minor": 2
}
