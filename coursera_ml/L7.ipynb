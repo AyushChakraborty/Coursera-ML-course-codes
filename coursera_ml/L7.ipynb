{
 "cells": [
  {
   "cell_type": "code",
   "execution_count": 1,
   "metadata": {},
   "outputs": [],
   "source": [
    "#doing the same thing as in L5 but with sklearn module"
   ]
  },
  {
   "cell_type": "code",
   "execution_count": 5,
   "metadata": {},
   "outputs": [],
   "source": [
    "import numpy as np\n",
    "from sklearn.linear_model import SGDRegressor    #for the gradient descent, here stochastic is used \n",
    "from sklearn.preprocessing import StandardScaler   #for the initial feature scaling\n",
    "import matplotlib.pyplot as plt \n",
    "import pandas as pd"
   ]
  },
  {
   "cell_type": "code",
   "execution_count": 6,
   "metadata": {},
   "outputs": [
    {
     "name": "stdout",
     "output_type": "stream",
     "text": [
      "[[2104    5    1   45  460]\n",
      " [1416    3    2   40  232]\n",
      " [ 852    2    1   35  178]]\n",
      "3 4\n"
     ]
    }
   ],
   "source": [
    "df = pd.read_csv('C:\\\\Users\\\\Lenovo\\\\OneDrive\\\\Desktop\\\\coursera_ml\\\\data2.csv')\n",
    "arr = df.to_numpy()\n",
    "print(arr)\n",
    "\n",
    "m = arr.shape[0]   #no of rows\n",
    "n = arr.shape[1]-1  #no of features\n",
    "print(m, n)"
   ]
  },
  {
   "cell_type": "code",
   "execution_count": 7,
   "metadata": {},
   "outputs": [
    {
     "name": "stdout",
     "output_type": "stream",
     "text": [
      "[[2104    5    1   45]\n",
      " [1416    3    2   40]\n",
      " [ 852    2    1   35]]\n",
      "[460 232 178]\n"
     ]
    }
   ],
   "source": [
    "x_train = []\n",
    "y_train = []\n",
    "\n",
    "for i in range(m):\n",
    "    x_train.append(arr[i][:n])\n",
    "    y_train.append(arr[i][n])\n",
    "\n",
    "x_train = np.array(x_train)\n",
    "y_train = np.array(y_train)\n",
    "print(x_train)\n",
    "print(y_train)\n"
   ]
  },
  {
   "cell_type": "code",
   "execution_count": 8,
   "metadata": {},
   "outputs": [],
   "source": [
    "x_features = ['Size(sqft)','Number_of_Bedrooms','Number_of_floors','Age_of_Home']"
   ]
  },
  {
   "cell_type": "markdown",
   "metadata": {},
   "source": [
    "scaling the features \n"
   ]
  },
  {
   "cell_type": "code",
   "execution_count": 9,
   "metadata": {},
   "outputs": [],
   "source": [
    "scale = StandardScaler()  #creating an instance of the StandardScalar class\n",
    "x_norm = scale.fit_transform(x_train)   #performs z score normalisation"
   ]
  },
  {
   "cell_type": "code",
   "execution_count": 10,
   "metadata": {},
   "outputs": [
    {
     "name": "stdout",
     "output_type": "stream",
     "text": [
      "[[ 1.26311506  1.33630621 -0.70710678  1.22474487]\n",
      " [-0.08073519 -0.26726124  1.41421356  0.        ]\n",
      " [-1.18237987 -1.06904497 -0.70710678 -1.22474487]]\n"
     ]
    }
   ],
   "source": [
    "print(x_norm)"
   ]
  },
  {
   "cell_type": "markdown",
   "metadata": {},
   "source": [
    "creating, fitting the model"
   ]
  },
  {
   "cell_type": "code",
   "execution_count": 11,
   "metadata": {},
   "outputs": [
    {
     "name": "stdout",
     "output_type": "stream",
     "text": [
      "SGDRegressor(max_iter=4000)\n",
      "number of epochs completed: 1239, number of weight updates: 3718.0\n"
     ]
    }
   ],
   "source": [
    "sgdr = SGDRegressor(max_iter=4000)  #max_iter is not an indication of number of epochs to be completed\n",
    "sgdr.fit(x_norm, y_train)   #same as calling the linear_regr function in L5 \n",
    "print(sgdr)\n",
    "print(f\"number of epochs completed: {sgdr.n_iter_}, number of weight updates: {sgdr.t_}\")"
   ]
  },
  {
   "cell_type": "code",
   "execution_count": 12,
   "metadata": {},
   "outputs": [
    {
     "name": "stdout",
     "output_type": "stream",
     "text": [
      "[289.50567562]\n",
      "[ 38.0527188   41.53885531 -30.94750412  36.34524978]\n"
     ]
    }
   ],
   "source": [
    "w = sgdr.intercept_\n",
    "b = sgdr.coef_\n",
    "print(w)\n",
    "print(b)"
   ]
  },
  {
   "cell_type": "code",
   "execution_count": 13,
   "metadata": {},
   "outputs": [],
   "source": [
    "# very close the the w and b values from L5 using custom linear regr model "
   ]
  },
  {
   "cell_type": "code",
   "execution_count": 14,
   "metadata": {},
   "outputs": [
    {
     "name": "stdout",
     "output_type": "stream",
     "text": [
      "[459.47611651 231.56537604 177.47553429]\n"
     ]
    }
   ],
   "source": [
    "y_pred = sgdr.predict(x_norm)\n",
    "print(y_pred)"
   ]
  }
 ],
 "metadata": {
  "kernelspec": {
   "display_name": "Python 3 (ipykernel)",
   "language": "python",
   "name": "python3"
  },
  "language_info": {
   "codemirror_mode": {
    "name": "ipython",
    "version": 3
   },
   "file_extension": ".py",
   "mimetype": "text/x-python",
   "name": "python",
   "nbconvert_exporter": "python",
   "pygments_lexer": "ipython3",
   "version": "3.12.4"
  }
 },
 "nbformat": 4,
 "nbformat_minor": 2
}
