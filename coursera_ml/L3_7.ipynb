{
 "cells": [
  {
   "cell_type": "markdown",
   "metadata": {},
   "source": [
    "PCA IMPLEMENTATION"
   ]
  },
  {
   "cell_type": "code",
   "execution_count": 1,
   "metadata": {},
   "outputs": [],
   "source": [
    "import numpy as np\n",
    "from sklearn.decomposition import PCA"
   ]
  },
  {
   "cell_type": "code",
   "execution_count": 14,
   "metadata": {},
   "outputs": [],
   "source": [
    "x = np.array([[1,1], [2,1], [3,2], [-1, -1], [-2,-1], [-3, -2]])\n",
    " "
   ]
  },
  {
   "cell_type": "code",
   "execution_count": 15,
   "metadata": {},
   "outputs": [
    {
     "name": "stdout",
     "output_type": "stream",
     "text": [
      "[0.99244289]\n",
      "[[ 1.38340578]\n",
      " [ 2.22189802]\n",
      " [ 3.6053038 ]\n",
      " [-1.38340578]\n",
      " [-2.22189802]\n",
      " [-3.6053038 ]]\n"
     ]
    }
   ],
   "source": [
    "pca1 = PCA(n_components=1)  #instance of the PCA class\n",
    "pca1.fit(x)\n",
    "print(pca1.explained_variance_ratio_)   #99.2 percent of data spread is preserved in the principal component\n",
    "\n",
    "x_transformed = pca1.transform(x)\n",
    "print(x_transformed)"
   ]
  },
  {
   "cell_type": "code",
   "execution_count": 16,
   "metadata": {},
   "outputs": [
    {
     "name": "stdout",
     "output_type": "stream",
     "text": [
      "[[ 1.15997501  0.75383654]\n",
      " [ 1.86304424  1.21074232]\n",
      " [ 3.02301925  1.96457886]\n",
      " [-1.15997501 -0.75383654]\n",
      " [-1.86304424 -1.21074232]\n",
      " [-3.02301925 -1.96457886]]\n"
     ]
    }
   ],
   "source": [
    "x_ = pca1.inverse_transform(x_transformed)    #performs the reconstruction step which gives back an appproximate value\n",
    "#of the initial points in 2d\n",
    "print(x_)"
   ]
  },
  {
   "cell_type": "code",
   "execution_count": 17,
   "metadata": {},
   "outputs": [
    {
     "name": "stdout",
     "output_type": "stream",
     "text": [
      "[0.99244289 0.00755711]\n",
      "[[ 1.38340578  0.2935787 ]\n",
      " [ 2.22189802 -0.25133484]\n",
      " [ 3.6053038   0.04224385]\n",
      " [-1.38340578 -0.2935787 ]\n",
      " [-2.22189802  0.25133484]\n",
      " [-3.6053038  -0.04224385]]\n"
     ]
    }
   ],
   "source": [
    "#letting there be 2 principal components\n",
    "pca2 = PCA(n_components=2)\n",
    "pca2.fit(x)\n",
    "print(pca2.explained_variance_ratio_)   #the first principal component captures almost all of the data spread whereas\n",
    "#the second one is just perperdicular to the first one hence has a very low variance\n",
    "\n",
    "x_transformed_1 = pca2.transform(x)\n",
    "print(x_transformed_1)  "
   ]
  },
  {
   "cell_type": "code",
   "execution_count": 18,
   "metadata": {},
   "outputs": [
    {
     "name": "stdout",
     "output_type": "stream",
     "text": [
      "[[ 1.  1.]\n",
      " [ 2.  1.]\n",
      " [ 3.  2.]\n",
      " [-1. -1.]\n",
      " [-2. -1.]\n",
      " [-3. -2.]]\n"
     ]
    }
   ],
   "source": [
    "x__ = pca2.inverse_transform(x_transformed_1)\n",
    "print(x__)  #gives the exact value back, hence performing the reconstruction step from n axes to n axes gives the same \n",
    "#initial points back"
   ]
  },
  {
   "cell_type": "code",
   "execution_count": null,
   "metadata": {},
   "outputs": [],
   "source": []
  }
 ],
 "metadata": {
  "kernelspec": {
   "display_name": "Python 3 (ipykernel)",
   "language": "python",
   "name": "python3"
  },
  "language_info": {
   "codemirror_mode": {
    "name": "ipython",
    "version": 3
   },
   "file_extension": ".py",
   "mimetype": "text/x-python",
   "name": "python",
   "nbconvert_exporter": "python",
   "pygments_lexer": "ipython3",
   "version": "3.12.4"
  }
 },
 "nbformat": 4,
 "nbformat_minor": 2
}
