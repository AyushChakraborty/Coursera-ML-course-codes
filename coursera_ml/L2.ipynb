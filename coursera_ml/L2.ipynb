{
 "cells": [
  {
   "cell_type": "markdown",
   "metadata": {},
   "source": [
    "IMPLEMENTING STOCHASTIC GRADIENT DESCENT LINEAR REGRESSION ALGO with only 1 feature"
   ]
  },
  {
   "cell_type": "code",
   "execution_count": 3,
   "metadata": {},
   "outputs": [],
   "source": [
    "import numpy as np\n",
    "import pandas as pd\n",
    "import matplotlib.pyplot as plt"
   ]
  },
  {
   "cell_type": "code",
   "execution_count": 5,
   "metadata": {},
   "outputs": [
    {
     "name": "stdout",
     "output_type": "stream",
     "text": [
      "<class 'pandas.core.frame.DataFrame'>\n",
      "<class 'numpy.ndarray'>\n"
     ]
    }
   ],
   "source": [
    "df = pd.read_csv('C:\\\\Users\\\\Lenovo\\\\Desktop\\\\coursera_ml\\\\data.csv')\n",
    "arr = df.to_numpy()\n",
    "\n",
    "m = arr.shape[0]\n",
    "print(type(df))\n",
    "print(type(arr))"
   ]
  },
  {
   "cell_type": "code",
   "execution_count": 6,
   "metadata": {},
   "outputs": [
    {
     "name": "stdout",
     "output_type": "stream",
     "text": [
      "[1, 2]\n",
      "[300, 500]\n",
      "<class 'list'>\n"
     ]
    }
   ],
   "source": [
    "x_train = []\n",
    "y_train = []\n",
    "\n",
    "for i in range(m):\n",
    "    x_train.append(arr[i][0])\n",
    "    y_train.append(arr[i][1])\n",
    "\n",
    "print(x_train)\n",
    "print(y_train)\n",
    "print(type(x_train))"
   ]
  },
  {
   "cell_type": "code",
   "execution_count": 7,
   "metadata": {},
   "outputs": [],
   "source": [
    "#a func for shuffling the rows of a dataframe, will be needed when df needs to be shuffled after every epoch\n",
    "def shuffle(df, m):\n",
    "    \n",
    "    \"\"\"\n",
    "    shuffling the dataframe \n",
    "    Args:\n",
    "        df (DataFrame): dataframe of the csv file inputted\n",
    "        m (scalar): number of rows in the csv\n",
    "    Returns:\n",
    "        x_train (list): list of the shuffled feature vars\n",
    "        y_train (list): list of the shuffled target vars\n",
    "        shuff_df (DataFrame): shuffled dataframe\n",
    "\n",
    "    \"\"\"\n",
    "    shuff_df = df.sample(frac=1)  #to shuffle the df\n",
    "    arr = shuff_df.to_numpy()\n",
    "\n",
    "    x_train = []\n",
    "    y_train = []\n",
    "\n",
    "    for i in range(m):\n",
    "        x_train.append(arr[i][0])\n",
    "        y_train.append(arr[i][1])\n",
    "\n",
    "    return x_train, y_train, shuff_df\n"
   ]
  },
  {
   "cell_type": "code",
   "execution_count": 8,
   "metadata": {},
   "outputs": [
    {
     "name": "stdout",
     "output_type": "stream",
     "text": [
      "[2, 1]\n",
      "[500, 300]\n"
     ]
    }
   ],
   "source": [
    "shuff_x_train, shuff_y_train, shuff_df = shuffle(df, m)\n",
    "print(shuff_x_train)\n",
    "print(shuff_y_train)"
   ]
  },
  {
   "cell_type": "code",
   "execution_count": 9,
   "metadata": {},
   "outputs": [],
   "source": [
    "#func to calc cost value\n",
    "def caculate_cost(x, y, w, b, m): \n",
    "\n",
    "    \"\"\"\n",
    "    Finds the gradient of the cost function J(w,b)\n",
    "    Args:\n",
    "        x (ndarray (m,)): feature data, m samples\n",
    "        y (ndarray (m,)): target data, m samples\n",
    "        w (scalar): weight\n",
    "        b (scalar): bias\n",
    "        m (scalar): number of traning samples\n",
    "    Returns:\n",
    "        J (scalar): cost value\n",
    "    \"\"\"\n",
    "    \n",
    "    J = 0\n",
    "    for i in range(m):\n",
    "        J += (w*x[i] + b - y[i])**2\n",
    "    J /= (2*m)\n",
    "    return J\n"
   ]
  },
  {
   "cell_type": "code",
   "execution_count": 10,
   "metadata": {},
   "outputs": [],
   "source": [
    "#calc gradient\n",
    "def calculate_gradient(x, y, w, b, i):\n",
    "\n",
    "    \"\"\"\n",
    "    Finds the gradient of the cost function J(w,b)\n",
    "    Args:\n",
    "        x (ndarray (m,)): feature data, m samples\n",
    "        y (ndarray (m,)): target data, m samples\n",
    "        w (scalar): weight\n",
    "        b (scalar): bias\n",
    "        i (scalar): ith training sample\n",
    "    Returns:\n",
    "        dJ_dw (scalar): the gradient of cost wrt w\n",
    "        dJ_db (scalar): the gradiene of cost wrt b\n",
    "    \"\"\"\n",
    "\n",
    "    dJ_dw = 0\n",
    "    dJ_db = 0\n",
    "\n",
    "    dJ_dw += (w*x[i] + b - y[i])*x[i]\n",
    "    dJ_db += (w*x[i] + b - y[i])\n",
    "\n",
    "    return dJ_dw, dJ_db"
   ]
  },
  {
   "cell_type": "code",
   "execution_count": 11,
   "metadata": {},
   "outputs": [],
   "source": [
    "#main algo\n",
    "def linear_regr(x, y, w, b, m, a, e): \n",
    "\n",
    "    \"\"\"\n",
    "    Updates the values of w,b to find the best fit line\n",
    "    Args:\n",
    "        x (ndarray (m,)): feature data, m samples\n",
    "        y (ndarray (m,)): target data, m samples\n",
    "        w (scalar): weight\n",
    "        b (scalar): bias\n",
    "        m (scalar): number of traning samples\n",
    "        a (scalar): learning rate\n",
    "        e (scalar): number of epochs\n",
    "    Returns:\n",
    "        w (scalar): updated w\n",
    "        b (scalar): updated b\n",
    "        e_history (list): list of 1000th epoch\n",
    "        cost_history (list): list of cost at every 1000th epoch\n",
    "    \"\"\"\n",
    "    \n",
    "    e_history = []\n",
    "    cost_history = []\n",
    "    tmp_df = df\n",
    "\n",
    "    for i in range(e):  #epoch iteration \n",
    "        for j in range(m): #dataset iteration\n",
    "            dJ_dw, dJ_db = calculate_gradient(x, y, w, b, j)\n",
    "\n",
    "            w -= a*dJ_dw\n",
    "            b -= a*dJ_db\n",
    "\n",
    "        \n",
    "        if (i+1)%1000 == 0:\n",
    "            J = caculate_cost(x, y, w, b, m)\n",
    "            print(f\"iteration: {i+1}  Cost: {J}\")\n",
    "            e_history.append(i+1)\n",
    "            cost_history.append(J) \n",
    "        \n",
    "        # x, y, shuff_df = shuffle(tmp_df, m)\n",
    "        # tmp_df = shuff_df\n",
    "\n",
    "    return w, b, e_history, cost_history\n"
   ]
  },
  {
   "cell_type": "code",
   "execution_count": 12,
   "metadata": {},
   "outputs": [
    {
     "name": "stdout",
     "output_type": "stream",
     "text": [
      "iteration: 1000  Cost: 0.7840413362561741\n",
      "iteration: 2000  Cost: 0.04063456880721164\n",
      "iteration: 3000  Cost: 0.002105970828057282\n",
      "iteration: 4000  Cost: 0.00010914630716720228\n",
      "iteration: 5000  Cost: 5.656733801424048e-06\n",
      "w: 199.99348927233436, b: 100.010612303008\n"
     ]
    }
   ],
   "source": [
    "w_in = 0\n",
    "b_in = 0\n",
    "a = 0.01\n",
    "epochs = 5000\n",
    "\n",
    "w, b, e_history, cost_history = linear_regr(x_train, y_train, w_in, b_in, m, a, epochs)\n",
    "e_history = np.array(e_history)\n",
    "cost_history = np.array(cost_history)\n",
    "print(f\"w: {w}, b: {b}\")\n",
    "\n",
    "#here num of iterations = epochs*m = 5000*2 = 10000 so half the number of iterations too as compared to BGD"
   ]
  },
  {
   "cell_type": "code",
   "execution_count": 13,
   "metadata": {},
   "outputs": [],
   "source": [
    "#so we see that only for half the epochs we got a lower value of cost in SGD than in BGD"
   ]
  },
  {
   "cell_type": "code",
   "execution_count": 14,
   "metadata": {},
   "outputs": [
    {
     "data": {
      "image/png": "[encoded data removed]",
      "text/plain": [
       "<Figure size 640x480 with 1 Axes>"
      ]
     },
     "metadata": {},
     "output_type": "display_data"
    }
   ],
   "source": [
    "#plotting the learning curve(epochs vs cost)\n",
    "plt.plot(e_history, cost_history)\n",
    "plt.title(\"Learning curve\")\n",
    "plt.xlabel(\"Epochs\")\n",
    "plt.ylabel(\"Cost\")\n",
    "plt.show()"
   ]
  },
  {
   "cell_type": "code",
   "execution_count": 15,
   "metadata": {},
   "outputs": [],
   "source": [
    "#trained model\n",
    "def trained_model(x):\n",
    "    global w,b\n",
    "\n",
    "    \"\"\"\n",
    "    returns the best fit lines output\n",
    "    Args:\n",
    "        x (scalar): new input\n",
    "    Returns:\n",
    "        y (scalar): the predicted output    \n",
    "    \"\"\"\n",
    "    \n",
    "    y = w*x + b\n",
    "    return y"
   ]
  },
  {
   "cell_type": "code",
   "execution_count": 16,
   "metadata": {},
   "outputs": [
    {
     "name": "stdout",
     "output_type": "stream",
     "text": [
      "predicted output: 699.991080120011\n"
     ]
    }
   ],
   "source": [
    "y = trained_model(3)\n",
    "print(f\"predicted output: {y}\")"
   ]
  },
  {
   "cell_type": "code",
   "execution_count": null,
   "metadata": {},
   "outputs": [],
   "source": []
  },
  {
   "cell_type": "code",
   "execution_count": null,
   "metadata": {},
   "outputs": [],
   "source": []
  },
  {
   "cell_type": "code",
   "execution_count": null,
   "metadata": {},
   "outputs": [],
   "source": []
  }
 ],
 "metadata": {
  "kernelspec": {
   "display_name": "Python 3 (ipykernel)",
   "language": "python",
   "name": "python3"
  },
  "language_info": {
   "codemirror_mode": {
    "name": "ipython",
    "version": 3
   },
   "file_extension": ".py",
   "mimetype": "text/x-python",
   "name": "python",
   "nbconvert_exporter": "python",
   "pygments_lexer": "ipython3",
   "version": "3.12.4"
  }
 },
 "nbformat": 4,
 "nbformat_minor": 2
}
