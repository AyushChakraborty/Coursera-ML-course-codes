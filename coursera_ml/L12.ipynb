{
 "cells": [
  {
   "cell_type": "markdown",
   "metadata": {},
   "source": [
    "IMPLEMENTING LOGISTIC REGRESSION USING BATCH GRADIENT DESCENT WITH REGULARISATION "
   ]
  },
  {
   "cell_type": "markdown",
   "metadata": {},
   "source": [
    "the whole intention with regularisation is to already have a overfit model, and then to generalise it to make\n",
    "it just right fit, this is done by changing the cost function slightly to penalise huge values of the weights.\n",
    "So to start with if the decision boundary seems to be non linear then we on purpose take higher order polymnomial feature terms to a certain degree and then we apply regularisation on it"
   ]
  },
  {
   "cell_type": "markdown",
   "metadata": {},
   "source": [
    "importing modules"
   ]
  },
  {
   "cell_type": "code",
   "execution_count": 1,
   "metadata": {},
   "outputs": [],
   "source": [
    "import pandas as pd\n",
    "import numpy as np\n",
    "import matplotlib.pyplot as plt"
   ]
  },
  {
   "cell_type": "markdown",
   "metadata": {},
   "source": [
    "initial data handling\n"
   ]
  },
  {
   "cell_type": "code",
   "execution_count": 2,
   "metadata": {},
   "outputs": [
    {
     "name": "stdout",
     "output_type": "stream",
     "text": [
      "[[ 0.051267   0.69956    1.       ]\n",
      " [-0.092742   0.68494    1.       ]\n",
      " [-0.21371    0.69225    1.       ]\n",
      " [-0.375      0.50219    1.       ]\n",
      " [-0.51325    0.46564    1.       ]\n",
      " [-0.52477    0.2098     1.       ]\n",
      " [-0.39804    0.034357   1.       ]\n",
      " [-0.30588   -0.19225    1.       ]\n",
      " [ 0.016705  -0.40424    1.       ]\n",
      " [ 0.13191   -0.51389    1.       ]\n",
      " [ 0.38537   -0.56506    1.       ]\n",
      " [ 0.52938   -0.5212     1.       ]\n",
      " [ 0.63882   -0.24342    1.       ]\n",
      " [ 0.73675   -0.18494    1.       ]\n",
      " [ 0.54666    0.48757    1.       ]\n",
      " [ 0.322      0.5826     1.       ]\n",
      " [ 0.16647    0.53874    1.       ]\n",
      " [-0.046659   0.81652    1.       ]\n",
      " [-0.17339    0.69956    1.       ]\n",
      " [-0.47869    0.63377    1.       ]\n",
      " [-0.60541    0.59722    1.       ]\n",
      " [-0.62846    0.33406    1.       ]\n",
      " [-0.59389    0.005117   1.       ]\n",
      " [-0.42108   -0.27266    1.       ]\n",
      " [-0.11578   -0.39693    1.       ]\n",
      " [ 0.20104   -0.60161    1.       ]\n",
      " [ 0.46601   -0.53582    1.       ]\n",
      " [ 0.67339   -0.53582    1.       ]\n",
      " [-0.13882    0.54605    1.       ]\n",
      " [-0.29435    0.77997    1.       ]\n",
      " [-0.26555    0.96272    1.       ]\n",
      " [-0.16187    0.8019     1.       ]\n",
      " [-0.17339    0.64839    1.       ]\n",
      " [-0.28283    0.47295    1.       ]\n",
      " [-0.36348    0.31213    1.       ]\n",
      " [-0.30012    0.027047   1.       ]\n",
      " [-0.23675   -0.21418    1.       ]\n",
      " [-0.06394   -0.18494    1.       ]\n",
      " [ 0.062788  -0.16301    1.       ]\n",
      " [ 0.22984   -0.41155    1.       ]\n",
      " [ 0.2932    -0.2288     1.       ]\n",
      " [ 0.48329   -0.18494    1.       ]\n",
      " [ 0.64459   -0.14108    1.       ]\n",
      " [ 0.46025    0.012427   1.       ]\n",
      " [ 0.6273     0.15863    1.       ]\n",
      " [ 0.57546    0.26827    1.       ]\n",
      " [ 0.72523    0.44371    1.       ]\n",
      " [ 0.22408    0.52412    1.       ]\n",
      " [ 0.44297    0.67032    1.       ]\n",
      " [ 0.322      0.69225    1.       ]\n",
      " [ 0.13767    0.57529    1.       ]\n",
      " [-0.0063364  0.39985    1.       ]\n",
      " [-0.092742   0.55336    1.       ]\n",
      " [-0.20795    0.35599    1.       ]\n",
      " [-0.20795    0.17325    1.       ]\n",
      " [-0.43836    0.21711    1.       ]\n",
      " [-0.21947   -0.016813   1.       ]\n",
      " [-0.13882   -0.27266    1.       ]\n",
      " [ 0.18376    0.93348    0.       ]\n",
      " [ 0.22408    0.77997    0.       ]\n",
      " [ 0.29896    0.61915    0.       ]\n",
      " [ 0.50634    0.75804    0.       ]\n",
      " [ 0.61578    0.7288     0.       ]\n",
      " [ 0.60426    0.59722    0.       ]\n",
      " [ 0.76555    0.50219    0.       ]\n",
      " [ 0.92684    0.3633     0.       ]\n",
      " [ 0.82316    0.27558    0.       ]\n",
      " [ 0.96141    0.085526   0.       ]\n",
      " [ 0.93836    0.012427   0.       ]\n",
      " [ 0.86348   -0.082602   0.       ]\n",
      " [ 0.89804   -0.20687    0.       ]\n",
      " [ 0.85196   -0.36769    0.       ]\n",
      " [ 0.82892   -0.5212     0.       ]\n",
      " [ 0.79435   -0.55775    0.       ]\n",
      " [ 0.59274   -0.7405     0.       ]\n",
      " [ 0.51786   -0.5943     0.       ]\n",
      " [ 0.46601   -0.41886    0.       ]\n",
      " [ 0.35081   -0.57968    0.       ]\n",
      " [ 0.28744   -0.76974    0.       ]\n",
      " [ 0.085829  -0.75512    0.       ]\n",
      " [ 0.14919   -0.57968    0.       ]\n",
      " [-0.13306   -0.4481     0.       ]\n",
      " [-0.40956   -0.41155    0.       ]\n",
      " [-0.39228   -0.25804    0.       ]\n",
      " [-0.74366   -0.25804    0.       ]\n",
      " [-0.69758    0.041667   0.       ]\n",
      " [-0.75518    0.2902     0.       ]\n",
      " [-0.69758    0.68494    0.       ]\n",
      " [-0.4038     0.70687    0.       ]\n",
      " [-0.38076    0.91886    0.       ]\n",
      " [-0.50749    0.90424    0.       ]\n",
      " [-0.54781    0.70687    0.       ]\n",
      " [ 0.10311    0.77997    0.       ]\n",
      " [ 0.057028   0.91886    0.       ]\n",
      " [-0.10426    0.99196    0.       ]\n",
      " [-0.081221   1.1089     0.       ]\n",
      " [ 0.28744    1.087      0.       ]\n",
      " [ 0.39689    0.82383    0.       ]\n",
      " [ 0.63882    0.88962    0.       ]\n",
      " [ 0.82316    0.66301    0.       ]\n",
      " [ 0.67339    0.64108    0.       ]\n",
      " [ 1.0709     0.10015    0.       ]\n",
      " [-0.046659  -0.57968    0.       ]\n",
      " [-0.23675   -0.63816    0.       ]\n",
      " [-0.15035   -0.36769    0.       ]\n",
      " [-0.49021   -0.3019     0.       ]\n",
      " [-0.46717   -0.13377    0.       ]\n",
      " [-0.28859   -0.060673   0.       ]\n",
      " [-0.61118   -0.067982   0.       ]\n",
      " [-0.66302   -0.21418    0.       ]\n",
      " [-0.59965   -0.41886    0.       ]\n",
      " [-0.72638   -0.082602   0.       ]\n",
      " [-0.83007    0.31213    0.       ]\n",
      " [-0.72062    0.53874    0.       ]\n",
      " [-0.59389    0.49488    0.       ]\n",
      " [-0.48445    0.99927    0.       ]\n",
      " [-0.0063364  0.99927    0.       ]\n",
      " [ 0.63265   -0.030612   0.       ]]\n"
     ]
    }
   ],
   "source": [
    "df = pd.read_csv(\"C:\\\\Users\\\\Lenovo\\\\Desktop\\\\coursera_ml\\\\data3.csv\")\n",
    "arr = df.to_numpy()\n",
    "print(arr)"
   ]
  },
  {
   "cell_type": "code",
   "execution_count": 44,
   "metadata": {},
   "outputs": [
    {
     "name": "stdout",
     "output_type": "stream",
     "text": [
      "118 2\n"
     ]
    }
   ],
   "source": [
    "m = arr.shape[0]   #numbe of data samples\n",
    "n = arr.shape[1]-1  #number of features\n",
    "print(m,n)"
   ]
  },
  {
   "cell_type": "code",
   "execution_count": 45,
   "metadata": {},
   "outputs": [
    {
     "name": "stdout",
     "output_type": "stream",
     "text": [
      "[[ 0.051267   0.69956  ]\n",
      " [-0.092742   0.68494  ]\n",
      " [-0.21371    0.69225  ]\n",
      " [-0.375      0.50219  ]\n",
      " [-0.51325    0.46564  ]\n",
      " [-0.52477    0.2098   ]\n",
      " [-0.39804    0.034357 ]\n",
      " [-0.30588   -0.19225  ]\n",
      " [ 0.016705  -0.40424  ]\n",
      " [ 0.13191   -0.51389  ]\n",
      " [ 0.38537   -0.56506  ]\n",
      " [ 0.52938   -0.5212   ]\n",
      " [ 0.63882   -0.24342  ]\n",
      " [ 0.73675   -0.18494  ]\n",
      " [ 0.54666    0.48757  ]\n",
      " [ 0.322      0.5826   ]\n",
      " [ 0.16647    0.53874  ]\n",
      " [-0.046659   0.81652  ]\n",
      " [-0.17339    0.69956  ]\n",
      " [-0.47869    0.63377  ]\n",
      " [-0.60541    0.59722  ]\n",
      " [-0.62846    0.33406  ]\n",
      " [-0.59389    0.005117 ]\n",
      " [-0.42108   -0.27266  ]\n",
      " [-0.11578   -0.39693  ]\n",
      " [ 0.20104   -0.60161  ]\n",
      " [ 0.46601   -0.53582  ]\n",
      " [ 0.67339   -0.53582  ]\n",
      " [-0.13882    0.54605  ]\n",
      " [-0.29435    0.77997  ]\n",
      " [-0.26555    0.96272  ]\n",
      " [-0.16187    0.8019   ]\n",
      " [-0.17339    0.64839  ]\n",
      " [-0.28283    0.47295  ]\n",
      " [-0.36348    0.31213  ]\n",
      " [-0.30012    0.027047 ]\n",
      " [-0.23675   -0.21418  ]\n",
      " [-0.06394   -0.18494  ]\n",
      " [ 0.062788  -0.16301  ]\n",
      " [ 0.22984   -0.41155  ]\n",
      " [ 0.2932    -0.2288   ]\n",
      " [ 0.48329   -0.18494  ]\n",
      " [ 0.64459   -0.14108  ]\n",
      " [ 0.46025    0.012427 ]\n",
      " [ 0.6273     0.15863  ]\n",
      " [ 0.57546    0.26827  ]\n",
      " [ 0.72523    0.44371  ]\n",
      " [ 0.22408    0.52412  ]\n",
      " [ 0.44297    0.67032  ]\n",
      " [ 0.322      0.69225  ]\n",
      " [ 0.13767    0.57529  ]\n",
      " [-0.0063364  0.39985  ]\n",
      " [-0.092742   0.55336  ]\n",
      " [-0.20795    0.35599  ]\n",
      " [-0.20795    0.17325  ]\n",
      " [-0.43836    0.21711  ]\n",
      " [-0.21947   -0.016813 ]\n",
      " [-0.13882   -0.27266  ]\n",
      " [ 0.18376    0.93348  ]\n",
      " [ 0.22408    0.77997  ]\n",
      " [ 0.29896    0.61915  ]\n",
      " [ 0.50634    0.75804  ]\n",
      " [ 0.61578    0.7288   ]\n",
      " [ 0.60426    0.59722  ]\n",
      " [ 0.76555    0.50219  ]\n",
      " [ 0.92684    0.3633   ]\n",
      " [ 0.82316    0.27558  ]\n",
      " [ 0.96141    0.085526 ]\n",
      " [ 0.93836    0.012427 ]\n",
      " [ 0.86348   -0.082602 ]\n",
      " [ 0.89804   -0.20687  ]\n",
      " [ 0.85196   -0.36769  ]\n",
      " [ 0.82892   -0.5212   ]\n",
      " [ 0.79435   -0.55775  ]\n",
      " [ 0.59274   -0.7405   ]\n",
      " [ 0.51786   -0.5943   ]\n",
      " [ 0.46601   -0.41886  ]\n",
      " [ 0.35081   -0.57968  ]\n",
      " [ 0.28744   -0.76974  ]\n",
      " [ 0.085829  -0.75512  ]\n",
      " [ 0.14919   -0.57968  ]\n",
      " [-0.13306   -0.4481   ]\n",
      " [-0.40956   -0.41155  ]\n",
      " [-0.39228   -0.25804  ]\n",
      " [-0.74366   -0.25804  ]\n",
      " [-0.69758    0.041667 ]\n",
      " [-0.75518    0.2902   ]\n",
      " [-0.69758    0.68494  ]\n",
      " [-0.4038     0.70687  ]\n",
      " [-0.38076    0.91886  ]\n",
      " [-0.50749    0.90424  ]\n",
      " [-0.54781    0.70687  ]\n",
      " [ 0.10311    0.77997  ]\n",
      " [ 0.057028   0.91886  ]\n",
      " [-0.10426    0.99196  ]\n",
      " [-0.081221   1.1089   ]\n",
      " [ 0.28744    1.087    ]\n",
      " [ 0.39689    0.82383  ]\n",
      " [ 0.63882    0.88962  ]\n",
      " [ 0.82316    0.66301  ]\n",
      " [ 0.67339    0.64108  ]\n",
      " [ 1.0709     0.10015  ]\n",
      " [-0.046659  -0.57968  ]\n",
      " [-0.23675   -0.63816  ]\n",
      " [-0.15035   -0.36769  ]\n",
      " [-0.49021   -0.3019   ]\n",
      " [-0.46717   -0.13377  ]\n",
      " [-0.28859   -0.060673 ]\n",
      " [-0.61118   -0.067982 ]\n",
      " [-0.66302   -0.21418  ]\n",
      " [-0.59965   -0.41886  ]\n",
      " [-0.72638   -0.082602 ]\n",
      " [-0.83007    0.31213  ]\n",
      " [-0.72062    0.53874  ]\n",
      " [-0.59389    0.49488  ]\n",
      " [-0.48445    0.99927  ]\n",
      " [-0.0063364  0.99927  ]\n",
      " [ 0.63265   -0.030612 ]]\n",
      "[1. 1. 1. 1. 1. 1. 1. 1. 1. 1. 1. 1. 1. 1. 1. 1. 1. 1. 1. 1. 1. 1. 1. 1.\n",
      " 1. 1. 1. 1. 1. 1. 1. 1. 1. 1. 1. 1. 1. 1. 1. 1. 1. 1. 1. 1. 1. 1. 1. 1.\n",
      " 1. 1. 1. 1. 1. 1. 1. 1. 1. 1. 0. 0. 0. 0. 0. 0. 0. 0. 0. 0. 0. 0. 0. 0.\n",
      " 0. 0. 0. 0. 0. 0. 0. 0. 0. 0. 0. 0. 0. 0. 0. 0. 0. 0. 0. 0. 0. 0. 0. 0.\n",
      " 0. 0. 0. 0. 0. 0. 0. 0. 0. 0. 0. 0. 0. 0. 0. 0. 0. 0. 0. 0. 0. 0.]\n"
     ]
    }
   ],
   "source": [
    "x_train = np.zeros([m, n])\n",
    "y_train = np.zeros(m)\n",
    "\n",
    "x_train += arr[:, :n]   #vectorised way of doing it, faster than for loops\n",
    "y_train += arr[:, n]\n",
    "\n",
    "print(x_train)\n",
    "print(y_train)"
   ]
  },
  {
   "cell_type": "code",
   "execution_count": 46,
   "metadata": {},
   "outputs": [
    {
     "name": "stdout",
     "output_type": "stream",
     "text": [
      "[ 0.051267  -0.092742  -0.21371   -0.375     -0.51325   -0.52477\n",
      " -0.39804   -0.30588    0.016705   0.13191    0.38537    0.52938\n",
      "  0.63882    0.73675    0.54666    0.322      0.16647   -0.046659\n",
      " -0.17339   -0.47869   -0.60541   -0.62846   -0.59389   -0.42108\n",
      " -0.11578    0.20104    0.46601    0.67339   -0.13882   -0.29435\n",
      " -0.26555   -0.16187   -0.17339   -0.28283   -0.36348   -0.30012\n",
      " -0.23675   -0.06394    0.062788   0.22984    0.2932     0.48329\n",
      "  0.64459    0.46025    0.6273     0.57546    0.72523    0.22408\n",
      "  0.44297    0.322      0.13767   -0.0063364 -0.092742  -0.20795\n",
      " -0.20795   -0.43836   -0.21947   -0.13882    0.18376    0.22408\n",
      "  0.29896    0.50634    0.61578    0.60426    0.76555    0.92684\n",
      "  0.82316    0.96141    0.93836    0.86348    0.89804    0.85196\n",
      "  0.82892    0.79435    0.59274    0.51786    0.46601    0.35081\n",
      "  0.28744    0.085829   0.14919   -0.13306   -0.40956   -0.39228\n",
      " -0.74366   -0.69758   -0.75518   -0.69758   -0.4038    -0.38076\n",
      " -0.50749   -0.54781    0.10311    0.057028  -0.10426   -0.081221\n",
      "  0.28744    0.39689    0.63882    0.82316    0.67339    1.0709\n",
      " -0.046659  -0.23675   -0.15035   -0.49021   -0.46717   -0.28859\n",
      " -0.61118   -0.66302   -0.59965   -0.72638   -0.83007   -0.72062\n",
      " -0.59389   -0.48445   -0.0063364  0.63265  ]\n",
      "[ 0.69956   0.68494   0.69225   0.50219   0.46564   0.2098    0.034357\n",
      " -0.19225  -0.40424  -0.51389  -0.56506  -0.5212   -0.24342  -0.18494\n",
      "  0.48757   0.5826    0.53874   0.81652   0.69956   0.63377   0.59722\n",
      "  0.33406   0.005117 -0.27266  -0.39693  -0.60161  -0.53582  -0.53582\n",
      "  0.54605   0.77997   0.96272   0.8019    0.64839   0.47295   0.31213\n",
      "  0.027047 -0.21418  -0.18494  -0.16301  -0.41155  -0.2288   -0.18494\n",
      " -0.14108   0.012427  0.15863   0.26827   0.44371   0.52412   0.67032\n",
      "  0.69225   0.57529   0.39985   0.55336   0.35599   0.17325   0.21711\n",
      " -0.016813 -0.27266   0.93348   0.77997   0.61915   0.75804   0.7288\n",
      "  0.59722   0.50219   0.3633    0.27558   0.085526  0.012427 -0.082602\n",
      " -0.20687  -0.36769  -0.5212   -0.55775  -0.7405   -0.5943   -0.41886\n",
      " -0.57968  -0.76974  -0.75512  -0.57968  -0.4481   -0.41155  -0.25804\n",
      " -0.25804   0.041667  0.2902    0.68494   0.70687   0.91886   0.90424\n",
      "  0.70687   0.77997   0.91886   0.99196   1.1089    1.087     0.82383\n",
      "  0.88962   0.66301   0.64108   0.10015  -0.57968  -0.63816  -0.36769\n",
      " -0.3019   -0.13377  -0.060673 -0.067982 -0.21418  -0.41886  -0.082602\n",
      "  0.31213   0.53874   0.49488   0.99927   0.99927  -0.030612]\n"
     ]
    }
   ],
   "source": [
    "x0 = np.zeros(m)  #for first feature\n",
    "x1 = np.zeros(m)   #for second feature\n",
    "\n",
    "x0 += x_train[:, 0]\n",
    "x1 += x_train[:, 1]\n",
    "\n",
    "print(x0)\n",
    "print(x1)"
   ]
  },
  {
   "cell_type": "markdown",
   "metadata": {},
   "source": [
    "plotting the feature space"
   ]
  },
  {
   "cell_type": "code",
   "execution_count": 47,
   "metadata": {},
   "outputs": [
    {
     "name": "stdout",
     "output_type": "stream",
     "text": [
      "[[ 0.18376    0.93348  ]\n",
      " [ 0.22408    0.77997  ]\n",
      " [ 0.29896    0.61915  ]\n",
      " [ 0.50634    0.75804  ]\n",
      " [ 0.61578    0.7288   ]\n",
      " [ 0.60426    0.59722  ]\n",
      " [ 0.76555    0.50219  ]\n",
      " [ 0.92684    0.3633   ]\n",
      " [ 0.82316    0.27558  ]\n",
      " [ 0.96141    0.085526 ]\n",
      " [ 0.93836    0.012427 ]\n",
      " [ 0.86348   -0.082602 ]\n",
      " [ 0.89804   -0.20687  ]\n",
      " [ 0.85196   -0.36769  ]\n",
      " [ 0.82892   -0.5212   ]\n",
      " [ 0.79435   -0.55775  ]\n",
      " [ 0.59274   -0.7405   ]\n",
      " [ 0.51786   -0.5943   ]\n",
      " [ 0.46601   -0.41886  ]\n",
      " [ 0.35081   -0.57968  ]\n",
      " [ 0.28744   -0.76974  ]\n",
      " [ 0.085829  -0.75512  ]\n",
      " [ 0.14919   -0.57968  ]\n",
      " [-0.13306   -0.4481   ]\n",
      " [-0.40956   -0.41155  ]\n",
      " [-0.39228   -0.25804  ]\n",
      " [-0.74366   -0.25804  ]\n",
      " [-0.69758    0.041667 ]\n",
      " [-0.75518    0.2902   ]\n",
      " [-0.69758    0.68494  ]\n",
      " [-0.4038     0.70687  ]\n",
      " [-0.38076    0.91886  ]\n",
      " [-0.50749    0.90424  ]\n",
      " [-0.54781    0.70687  ]\n",
      " [ 0.10311    0.77997  ]\n",
      " [ 0.057028   0.91886  ]\n",
      " [-0.10426    0.99196  ]\n",
      " [-0.081221   1.1089   ]\n",
      " [ 0.28744    1.087    ]\n",
      " [ 0.39689    0.82383  ]\n",
      " [ 0.63882    0.88962  ]\n",
      " [ 0.82316    0.66301  ]\n",
      " [ 0.67339    0.64108  ]\n",
      " [ 1.0709     0.10015  ]\n",
      " [-0.046659  -0.57968  ]\n",
      " [-0.23675   -0.63816  ]\n",
      " [-0.15035   -0.36769  ]\n",
      " [-0.49021   -0.3019   ]\n",
      " [-0.46717   -0.13377  ]\n",
      " [-0.28859   -0.060673 ]\n",
      " [-0.61118   -0.067982 ]\n",
      " [-0.66302   -0.21418  ]\n",
      " [-0.59965   -0.41886  ]\n",
      " [-0.72638   -0.082602 ]\n",
      " [-0.83007    0.31213  ]\n",
      " [-0.72062    0.53874  ]\n",
      " [-0.59389    0.49488  ]\n",
      " [-0.48445    0.99927  ]\n",
      " [-0.0063364  0.99927  ]\n",
      " [ 0.63265   -0.030612 ]]\n"
     ]
    }
   ],
   "source": [
    "x_0 = []  #features with negative class output\n",
    "x_1 = []  #features with pos class output\n",
    "\n",
    "for i in range(m):\n",
    "    if y_train[i] == 0:\n",
    "        x_0.append(x_train[i])\n",
    "    else:\n",
    "        x_1.append(x_train[i])\n",
    "\n",
    "x_0 = np.array(x_0)\n",
    "x_1 = np.array(x_1)\n",
    "\n",
    "print(x_0)"
   ]
  },
  {
   "cell_type": "code",
   "execution_count": 48,
   "metadata": {},
   "outputs": [
    {
     "data": {
      "image/png": "[encoded data removed]",
      "text/plain": [
       "<Figure size 640x480 with 1 Axes>"
      ]
     },
     "metadata": {},
     "output_type": "display_data"
    }
   ],
   "source": [
    "plt.scatter(x_0[:, 0], x_0[:, 1], c='b')\n",
    "plt.scatter(x_1[:, 0], x_1[:, 1], c='r')\n",
    "plt.xlabel(\"$x_0$ First feature\")\n",
    "plt.ylabel(\"$y_0$ Second feature\")\n",
    "plt.title(\"Feature space\")\n",
    "plt.show()"
   ]
  },
  {
   "cell_type": "markdown",
   "metadata": {},
   "source": [
    "so we see that the decision boundary here would be non linear and hence we would benefit from having a overfit\n",
    "non linear model initially that we generalise usinf regularisation"
   ]
  },
  {
   "cell_type": "markdown",
   "metadata": {},
   "source": [
    "engineering new features with higher degrees, in this egs doing it till the 6th power"
   ]
  },
  {
   "cell_type": "code",
   "execution_count": 49,
   "metadata": {},
   "outputs": [
    {
     "name": "stdout",
     "output_type": "stream",
     "text": [
      "27\n",
      "[[ 5.12670000e-02  6.99560000e-01  2.62830529e-03 ...  3.38066048e-06\n",
      "   6.29470940e-04  4.61305487e-05]\n",
      " [-9.27420000e-02  6.84940000e-01  8.60107856e-03 ...  3.47065055e-05\n",
      "   1.89305413e-03 -2.56322636e-04]\n",
      " [-2.13710000e-01  6.92250000e-01  4.56719641e-02 ...  9.99597833e-04\n",
      "   1.04882142e-02 -3.23789996e-03]\n",
      " ...\n",
      " [-4.84450000e-01  9.99270000e-01  2.34691802e-01 ...  5.49998544e-02\n",
      "   2.34007252e-01 -1.13447630e-01]\n",
      " [-6.33640000e-03  9.99270000e-01  4.01499650e-05 ...  1.60966700e-09\n",
      "   4.00328554e-05 -2.53849495e-07]\n",
      " [ 6.32650000e-01 -3.06120000e-02  4.00246023e-01 ...  1.50119621e-04\n",
      "   3.51474517e-07 -7.26382966e-06]]\n",
      "(118, 27)\n"
     ]
    }
   ],
   "source": [
    "x_train_engg = np.c_[x0, x1, \n",
    "    x0**2, x1**2, x0*x1, \n",
    "    x0**3, x1**3, (x0**2)*x1, (x1**2)*x0,\n",
    "    x0**4, x1**4, (x0**3)*x1, (x1**3)*x0, (x0**2)*(x1**2),\n",
    "    x0**5, x1**5, (x0**4)*x1, (x1**4)*x0, (x0**3)*(x1**2), (x1**3)*(x1**2),\n",
    "    x0**6, x1**6, (x0**5)*x1, (x1**5)*x0, (x0**4)*(x1**2), (x1**4)*(x0**2), (x0**3)*(x1**3)]\n",
    "\n",
    "\n",
    "n = x_train_engg.shape[1]\n",
    "print(n)\n",
    "print(x_train_engg)\n",
    "print(x_train_engg.shape)\n",
    "\n",
    "#27 features now, these will be now used instead of the starting 2 features"
   ]
  },
  {
   "cell_type": "markdown",
   "metadata": {},
   "source": [
    "the main algorithm"
   ]
  },
  {
   "cell_type": "code",
   "execution_count": 50,
   "metadata": {},
   "outputs": [],
   "source": [
    "#sigmoid func\n",
    "\n",
    "def sigmoid(x, w, b):\n",
    "    \"\"\"\n",
    "    returns the sigmoid value of a data sample\n",
    "\n",
    "    Args:\n",
    "        x (ndarray (n,)): a single data sample\n",
    "        w (ndarray (n,)): weight array\n",
    "        b (scalar): bias\n",
    "    \n",
    "    Returns:\n",
    "        s (scalar): sigmoid value for \n",
    "    \"\"\"\n",
    "    \n",
    "    s = 1/(1 + np.exp(-(np.dot(x, w) + b)))\n",
    "    return s"
   ]
  },
  {
   "cell_type": "code",
   "execution_count": 51,
   "metadata": {},
   "outputs": [],
   "source": [
    "#cost func\n",
    "\n",
    "def calculate_cost(x, y, w, b, m, n, l):\n",
    "    \"\"\"\n",
    "    returns the cost for the dataset\n",
    "\n",
    "    Args:\n",
    "        x (ndarray (m,n)): the feature dataset\n",
    "        y (ndarray (m,)): the targets\n",
    "        w (ndarray (n,)): weights array\n",
    "        b (scalar): bias\n",
    "        m (scalar): number of training samples\n",
    "        n (scalar): number of features\n",
    "        l (scalar): lambda or regularisation constant\n",
    "    \n",
    "    Returns:\n",
    "        J (scalar): cost \n",
    "    \"\"\"\n",
    "\n",
    "    J = 0\n",
    "\n",
    "    for i in range(m):\n",
    "        J += (y[i]*np.log(sigmoid(x[i], w, b)) + (1- y[i])*np.log(1 - sigmoid(x[i], w, b)))\n",
    "    J /= (-m)\n",
    "\n",
    "    reg = 0\n",
    "\n",
    "    for j in range(n):\n",
    "        reg += (w[j]**2)\n",
    "    reg *= (l/(2*m))\n",
    "    \n",
    "    J += reg\n",
    "\n",
    "    return J\n"
   ]
  },
  {
   "cell_type": "code",
   "execution_count": 53,
   "metadata": {},
   "outputs": [
    {
     "name": "stdout",
     "output_type": "stream",
     "text": [
      "Regularized cost : 0.6959953682030402\n"
     ]
    }
   ],
   "source": [
    "\n",
    "np.random.seed(1)\n",
    "initial_w = np.random.rand(x_train_engg.shape[1]) - 0.5\n",
    "initial_b = 0.5\n",
    "lambda_ = 0.5\n",
    "cost = calculate_cost(x_train_engg, y_train, initial_w, initial_b, m, n, lambda_)\n",
    "\n",
    "print(\"Regularized cost :\", cost)"
   ]
  },
  {
   "cell_type": "code",
   "execution_count": 58,
   "metadata": {},
   "outputs": [],
   "source": [
    "# finding gradient \n",
    "\n",
    "def calculate_gradient(x, y, w, b, m, n, l):\n",
    "    \"\"\"\n",
    "    calculates the gradient vector of cost wrt weight vector and also finds gradient of cost wrt bias\n",
    "\n",
    "    Args:\n",
    "        x (ndarray (m,n)): feature matrix\n",
    "        y (ndarray (m,)): targets\n",
    "        w (ndarray (n,)): weight vector\n",
    "        b (scalar): bias\n",
    "        m (scalar): number of data samples\n",
    "        n (scalar): number of features\n",
    "        l (scalar): regularisation constant\n",
    "\n",
    "    Returns:\n",
    "        d (ndarray (n,)): gradient vector\n",
    "        dJ_db (scalar): gradient wrt bias   \n",
    "    \"\"\"\n",
    "\n",
    "    d = []\n",
    "    dJ_db = 0\n",
    "\n",
    "    for i in range(n):\n",
    "        d.append(\n",
    "            sum([(sigmoid(x[j], w, b) - y[j])*x[j][i] for j in range(m)])/m + (l*w[i])/m\n",
    "        )\n",
    "    \n",
    "    dJ_db += sum([sigmoid(x[k], w, b) - y[k] for k in range(m)])/m\n",
    "\n",
    "    d = np.array(d)\n",
    "\n",
    "    return d, dJ_db"
   ]
  },
  {
   "cell_type": "code",
   "execution_count": 59,
   "metadata": {},
   "outputs": [],
   "source": [
    "#gradient descent or the main logistic regr algo\n",
    "\n",
    "def logistic_regr(x, y, w, b, m, n, a, e, l):\n",
    "    \"\"\"\n",
    "    returns epoch history list, cost history list, final weight vector and final bias vector\n",
    "    \n",
    "    Args:\n",
    "        x (ndarray (m,n)): feature matrix\n",
    "        y (ndarray (m,)): targets\n",
    "        w (ndarray (n,)): weight array\n",
    "        b (scalar): bias\n",
    "        m (scalar): number of training samples\n",
    "        n (scalar): number of features\n",
    "        a (scalar): learning rate\n",
    "        e (scalar): epcohs\n",
    "        l (scalar): regularisation constant\n",
    "\n",
    "    Returns:\n",
    "        e_history (list): every 1000th epoch as elements\n",
    "        cost_history (list): cost for every 1000th epoch as elements\n",
    "        w (ndarray (n,)): final weight array\n",
    "        b (scalar): final bias    \n",
    "    \"\"\"\n",
    "\n",
    "    e_history = []\n",
    "    cost_history = []\n",
    "\n",
    "    for i in range(e):\n",
    "        d, dJ_db = calculate_gradient(x, y, w, b, m, n, l)\n",
    "\n",
    "        w -= a*d\n",
    "        b -= a*dJ_db\n",
    "\n",
    "        if (i+1)%1000 == 0 or i ==0:\n",
    "            J = calculate_cost(x, y, w, b, m, n, l)\n",
    "            e_history.append(i+1)\n",
    "            cost_history.append(J)\n",
    "            print(f\"iteration: {i+1} cost: {J}\")\n",
    "\n",
    "    return e_history, cost_history, w, b"
   ]
  },
  {
   "cell_type": "code",
   "execution_count": 60,
   "metadata": {},
   "outputs": [
    {
     "name": "stdout",
     "output_type": "stream",
     "text": [
      "[-0.082978    0.22032449 -0.49988563 -0.19766743 -0.35324411 -0.40766141\n",
      " -0.31373979 -0.15443927 -0.10323253  0.03881673 -0.08080549  0.1852195\n",
      " -0.29554775  0.37811744 -0.47261241  0.17046751 -0.0826952   0.05868983\n",
      " -0.35961306 -0.30189851  0.30074457  0.46826158 -0.18657582  0.19232262\n",
      "  0.37638915  0.39460666 -0.41495579]\n",
      "27\n",
      "118\n",
      "iteration: 1 cost: 0.7658780731554127\n",
      "iteration: 1000 cost: 0.5974900282445936\n",
      "iteration: 2000 cost: 0.5642426264476518\n",
      "iteration: 3000 cost: 0.538545131678861\n",
      "iteration: 4000 cost: 0.5179725565112809\n",
      "iteration: 5000 cost: 0.5010944822415513\n",
      "iteration: 6000 cost: 0.48697214256393945\n",
      "iteration: 7000 cost: 0.47496510772499556\n",
      "iteration: 8000 cost: 0.464621148151031\n",
      "iteration: 9000 cost: 0.4556112647355462\n",
      "iteration: 10000 cost: 0.44768991357291194\n"
     ]
    }
   ],
   "source": [
    "np.random.seed(1)\n",
    "w_in = np.random.rand(x_train_engg.shape[1])-0.5\n",
    "print(w_in)\n",
    "b_in = 1\n",
    "lambda_ = 0.01\n",
    "epochs = 10000\n",
    "a = 0.01\n",
    "\n",
    "print(n)\n",
    "print(m)\n",
    "\n",
    "e_history, cost_history, w, b = logistic_regr(x_train_engg, y_train, w_in, b_in, m, n, a, epochs, lambda_)"
   ]
  },
  {
   "cell_type": "code",
   "execution_count": 61,
   "metadata": {},
   "outputs": [
    {
     "name": "stdout",
     "output_type": "stream",
     "text": [
      "[ 0.90053996  1.59658625 -2.64411659 -1.63210499 -1.04407005 -0.07720368\n",
      " -0.4212622  -0.53862101 -0.42253464 -1.5239049  -1.37691772  0.18339644\n",
      " -0.47682733 -0.28877416 -0.60394532 -0.35026949 -0.31456895 -0.21770279\n",
      " -0.39380306 -0.81864933 -0.81877153 -0.62489001 -0.14143991  0.0950407\n",
      "  0.05448202  0.03556932 -0.38066088]\n",
      "1.4327517691230527\n"
     ]
    }
   ],
   "source": [
    "print(w)\n",
    "print(b)"
   ]
  },
  {
   "cell_type": "markdown",
   "metadata": {},
   "source": [
    "learning curve"
   ]
  },
  {
   "cell_type": "code",
   "execution_count": 62,
   "metadata": {},
   "outputs": [
    {
     "data": {
      "image/png": "[encoded data removed]",
      "text/plain": [
       "<Figure size 640x480 with 1 Axes>"
      ]
     },
     "metadata": {},
     "output_type": "display_data"
    }
   ],
   "source": [
    "plt.plot(e_history, cost_history)\n",
    "plt.xlabel(\"Epochs\")\n",
    "plt.ylabel(\"cost\")\n",
    "plt.title(\"Learning curve\")\n",
    "plt.show()"
   ]
  },
  {
   "cell_type": "markdown",
   "metadata": {},
   "source": [
    "looking at the decision boundary"
   ]
  },
  {
   "cell_type": "code",
   "execution_count": 87,
   "metadata": {},
   "outputs": [
    {
     "data": {
      "image/png": "[encoded data removed]",
      "text/plain": [
       "<Figure size 640x480 with 1 Axes>"
      ]
     },
     "metadata": {},
     "output_type": "display_data"
    }
   ],
   "source": [
    "plt.scatter(x_0[:, 0], x_0[:, 1], c='b')\n",
    "plt.scatter(x_1[:, 0], x_1[:, 1], c='r')\n",
    "plt.xlabel(\"$x_0$ First feature\")\n",
    "plt.ylabel(\"$y_0$ Second feature\")\n",
    "plt.title(\"Feature space\")\n",
    "\n",
    "x = np.linspace(-1.0, 1.5, 50)\n",
    "y = np.linspace(-1.0, 1.5, 50)\n",
    "x0, x1 = np.meshgrid(x,y)\n",
    "F = w[0]*x0 + w[1]*x1 + w[2]*(x0**2) +  w[3]*(x1**2) + w[4]*(x0*x1) + w[5]*(x0**3) + w[6]*(x1**3) + w[7]*(x0**2)*x1 + w[8]*(x1**2)*x0 +w[9]*(x0**4) + w[10]*(x1**4) + w[11]*(x0**3)*x1 + w[12]*(x1**3)*x0 + w[13]*(x0**2)*(x1**2) +w[14]*(x0**5) + w[15]*(x1**5) + w[16]*(x0**4)*x1 + w[17]*(x1**4)*x0 + w[18]*(x0**3)*(x1**2) + w[19]*(x1**3)*(x1**2) +w[20]*(x0**6) + w[21]*(x1**6) + w[22]*(x0**5)*x1 + w[23]*(x1**5)*x0 + w[24]*(x0**4)*(x1**2) + w[25]*(x1**4)*(x0**2) + w[26]*(x0**3)*(x1**3) + b\n",
    "# F = np.zeros((len(x), len(y)))\n",
    "\n",
    "# for i in range(len(x)):\n",
    "#     for j in range(len(y)):\n",
    "\n",
    "plt.contour(x0,x1,F,levels=[1])\n",
    "\n",
    "\n",
    "plt.show()"
   ]
  },
  {
   "cell_type": "code",
   "execution_count": null,
   "metadata": {},
   "outputs": [],
   "source": [
    "#not exactly right as its a contour plot and not a plot of the actual curve"
   ]
  }
 ],
 "metadata": {
  "kernelspec": {
   "display_name": "Python 3 (ipykernel)",
   "language": "python",
   "name": "python3"
  },
  "language_info": {
   "codemirror_mode": {
    "name": "ipython",
    "version": 3
   },
   "file_extension": ".py",
   "mimetype": "text/x-python",
   "name": "python",
   "nbconvert_exporter": "python",
   "pygments_lexer": "ipython3",
   "version": "3.12.4"
  }
 },
 "nbformat": 4,
 "nbformat_minor": 4
}
